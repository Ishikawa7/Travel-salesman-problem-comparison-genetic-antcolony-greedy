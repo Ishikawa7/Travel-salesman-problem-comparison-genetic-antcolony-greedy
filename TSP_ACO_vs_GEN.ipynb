{
 "cells": [
  {
   "cell_type": "code",
   "execution_count": 133,
   "metadata": {},
   "outputs": [],
   "source": [
    "from __future__ import division\n",
    "import numpy as np\n",
    "from scipy import spatial\n",
    "import pandas as pd\n",
    "import matplotlib.pyplot as plt\n",
    "from sko.ACA import ACA_TSP\n",
    "import six\n",
    "import sys\n",
    "sys.modules['sklearn.externals.six'] = six\n",
    "import mlrose\n",
    "from typing import DefaultDict\n",
    "import time"
   ]
  },
  {
   "cell_type": "code",
   "execution_count": 73,
   "metadata": {},
   "outputs": [],
   "source": [
    "# Greedy\n",
    "INT_MAX = 2147483647\n",
    "def findMinRoute(tsp):\n",
    "    sum = 0\n",
    "    counter = 0\n",
    "    j = 0\n",
    "    i = 0\n",
    "    min = INT_MAX\n",
    "    visitedRouteList = DefaultDict(int)\n",
    " \n",
    "    visitedRouteList[0] = 1\n",
    "    route = [0] * len(tsp)\n",
    " \n",
    "    while i < len(tsp) and j < len(tsp[i]):\n",
    " \n",
    "        if counter >= len(tsp[i]) - 1:\n",
    "            break\n",
    " \n",
    "        if j != i and (visitedRouteList[j] == 0):\n",
    "            if tsp[i][j] < min:\n",
    "                min = tsp[i][j]\n",
    "                route[counter] = j + 1\n",
    " \n",
    "        j += 1\n",
    "\n",
    "        if j == len(tsp[i]):\n",
    "            sum += min\n",
    "            min = INT_MAX\n",
    "            visitedRouteList[route[counter] - 1] = 1\n",
    "            j = 0\n",
    "            i = route[counter] - 1\n",
    "            counter += 1\n",
    " \n",
    "    i = route[counter - 1] - 1\n",
    " \n",
    "    for j in range(len(tsp)):\n",
    " \n",
    "        if (i != j) and tsp[i][j] < min:\n",
    "            min = tsp[i][j]\n",
    "            route[counter] = j + 1\n",
    " \n",
    "    sum += min\n",
    " \n",
    "    return sum"
   ]
  },
  {
   "cell_type": "code",
   "execution_count": 3,
   "metadata": {},
   "outputs": [],
   "source": [
    "def cal_total_distance(routine):\n",
    "    num_points, = routine.shape\n",
    "    return sum([distance_matrix[routine[i % num_points], routine[(i + 1) % num_points]] for i in range(num_points)])"
   ]
  },
  {
   "cell_type": "code",
   "execution_count": 126,
   "metadata": {},
   "outputs": [],
   "source": [
    "num_points = 15\n",
    "points_coordinate = np.random.rand(num_points, 2)\n",
    "distance_matrix = spatial.distance.cdist(points_coordinate, points_coordinate, metric='euclidean')\n"
   ]
  },
  {
   "cell_type": "code",
   "execution_count": 115,
   "metadata": {},
   "outputs": [
    {
     "data": {
      "text/plain": [
       "array([[0.73661182, 0.51269964],\n",
       "       [0.98234008, 0.914696  ],\n",
       "       [0.83462449, 0.05276104],\n",
       "       [0.29583003, 0.48146197],\n",
       "       [0.3967705 , 0.17616197],\n",
       "       [0.34280323, 0.72158196],\n",
       "       [0.86826239, 0.31510915],\n",
       "       [0.05105193, 0.84019243],\n",
       "       [0.14591896, 0.07445813],\n",
       "       [0.92643887, 0.47763342]])"
      ]
     },
     "execution_count": 115,
     "metadata": {},
     "output_type": "execute_result"
    }
   ],
   "source": [
    "points_coordinate"
   ]
  },
  {
   "cell_type": "code",
   "execution_count": 127,
   "metadata": {},
   "outputs": [],
   "source": [
    "aca = ACA_TSP(func=cal_total_distance, n_dim=num_points,\n",
    "                  size_pop=30, max_iter=30,\n",
    "                  distance_matrix=distance_matrix)\n",
    "best_x, best_y = aca.run()"
   ]
  },
  {
   "cell_type": "code",
   "execution_count": 119,
   "metadata": {},
   "outputs": [
    {
     "data": {
      "text/plain": [
       "array([0, 9, 6, 2, 4, 8, 3, 7, 5, 1])"
      ]
     },
     "execution_count": 119,
     "metadata": {},
     "output_type": "execute_result"
    }
   ],
   "source": [
    "best_x"
   ]
  },
  {
   "cell_type": "code",
   "execution_count": 128,
   "metadata": {},
   "outputs": [
    {
     "data": {
      "text/plain": [
       "3.0603134946789967"
      ]
     },
     "execution_count": 128,
     "metadata": {},
     "output_type": "execute_result"
    }
   ],
   "source": [
    "best_y"
   ]
  },
  {
   "cell_type": "code",
   "execution_count": 131,
   "metadata": {},
   "outputs": [
    {
     "name": "stdout",
     "output_type": "stream",
     "text": [
      "The best state found is:  [ 5 13 12  2 11  8  0  3 10  1  4  6 14  7  9]\n",
      "The fitness at the best state is:  4.0980244192293975\n"
     ]
    }
   ],
   "source": [
    "fitness_coords = mlrose.TravellingSales(coords = points_coordinate)\n",
    "problem_fit = mlrose.TSPOpt(length = num_points, fitness_fn = fitness_coords,maximize=False)\n",
    "best_state, best_fitness = mlrose.genetic_alg(problem_fit,pop_size=2000, mutation_prob = 0.2, max_attempts = 30)\n",
    "\n",
    "print('The best state found is: ', best_state)\n",
    "\n",
    "print('The fitness at the best state is: ', best_fitness)"
   ]
  },
  {
   "cell_type": "code",
   "execution_count": 132,
   "metadata": {},
   "outputs": [
    {
     "name": "stdout",
     "output_type": "stream",
     "text": [
      "2.946567815511009\n"
     ]
    }
   ],
   "source": [
    "best = findMinRoute(distance_matrix)\n",
    "print(best)"
   ]
  },
  {
   "cell_type": "code",
   "execution_count": 142,
   "metadata": {},
   "outputs": [],
   "source": [
    "results = {}\n",
    "res_scatter = {\"Algo\":[],\"N points\":[],\"Time\":[],\"Best\":[],\"N run\":[]}\n",
    "for n in range(5,41,5):\n",
    "    num_points = n\n",
    "    points_coordinate = np.random.rand(num_points, 2)\n",
    "    distance_matrix = spatial.distance.cdist(points_coordinate, points_coordinate, metric='euclidean')\n",
    "    results[\"Ant colony \"+str(n)+\" points BEST\"] = []\n",
    "    results[\"Ant colony \"+str(n)+\" points TIME\"] = []\n",
    "    results[\"Genetic \"+str(n)+\" points BEST\"] = []\n",
    "    results[\"Genetic \"+str(n)+\" points TIME\"] = []\n",
    "    results[\"Greedy \"+str(n)+\" points BEST\"] = []\n",
    "    results[\"Greedy \"+str(n)+\" points TIME\"] = []\n",
    "    for i in range(0,10):\n",
    "        aca = ACA_TSP(func=cal_total_distance, n_dim=num_points,size_pop=30, max_iter=30,distance_matrix=distance_matrix)\n",
    "        startTime_ant_colony = time.time()\n",
    "        best_x, best_y = aca.run()\n",
    "        executionTime_ant_colony = (time.time() - startTime_ant_colony)\n",
    "        results[\"Ant colony \"+str(n)+\" points BEST\"].append(best_y)\n",
    "        results[\"Ant colony \"+str(n)+\" points TIME\"].append(executionTime_ant_colony)\n",
    "        res_scatter[\"Algo\"].append(\"Ant colony\")\n",
    "        res_scatter[\"N points\"].append(num_points)\n",
    "        res_scatter[\"Time\"].append(executionTime_ant_colony)\n",
    "        res_scatter[\"Best\"].append(best_y)\n",
    "        res_scatter[\"N run\"].append(i+1)\n",
    "\n",
    "        fitness_coords = mlrose.TravellingSales(coords = points_coordinate)\n",
    "        problem_fit = mlrose.TSPOpt(length = num_points, fitness_fn = fitness_coords,maximize=False)\n",
    "        startTime_genetic = time.time()\n",
    "        best_state, best_fitness = mlrose.genetic_alg(problem_fit,pop_size=2000, mutation_prob = 0.2, max_attempts = 30)\n",
    "        executionTime_genetic = (time.time() - startTime_genetic)\n",
    "        results[\"Genetic \"+str(n)+\" points BEST\"].append(best_fitness)\n",
    "        results[\"Genetic \"+str(n)+\" points TIME\"].append(executionTime_genetic)\n",
    "        res_scatter[\"Algo\"].append(\"Genetic\")\n",
    "        res_scatter[\"N points\"].append(num_points)\n",
    "        res_scatter[\"Time\"].append(executionTime_genetic)\n",
    "        res_scatter[\"Best\"].append(best_fitness)\n",
    "        res_scatter[\"N run\"].append(i+1)\n",
    "\n",
    "        startTime_greedy= time.time()\n",
    "        best = findMinRoute(distance_matrix)\n",
    "        executionTime_greedy = (time.time() - startTime_greedy)\n",
    "        results[\"Greedy \"+str(n)+\" points BEST\"].append(best)\n",
    "        results[\"Greedy \"+str(n)+\" points TIME\"].append(executionTime_greedy)\n",
    "        res_scatter[\"Algo\"].append(\"Greedy\")\n",
    "        res_scatter[\"N points\"].append(num_points)\n",
    "        res_scatter[\"Time\"].append(executionTime_greedy)\n",
    "        res_scatter[\"Best\"].append(best)\n",
    "        res_scatter[\"N run\"].append(i+1)"
   ]
  },
  {
   "cell_type": "code",
   "execution_count": 145,
   "metadata": {},
   "outputs": [
    {
     "data": {
      "text/html": [
       "<div>\n",
       "<style scoped>\n",
       "    .dataframe tbody tr th:only-of-type {\n",
       "        vertical-align: middle;\n",
       "    }\n",
       "\n",
       "    .dataframe tbody tr th {\n",
       "        vertical-align: top;\n",
       "    }\n",
       "\n",
       "    .dataframe thead th {\n",
       "        text-align: right;\n",
       "    }\n",
       "</style>\n",
       "<table border=\"1\" class=\"dataframe\">\n",
       "  <thead>\n",
       "    <tr style=\"text-align: right;\">\n",
       "      <th></th>\n",
       "      <th>Ant colony 5 points BEST</th>\n",
       "      <th>Ant colony 5 points TIME</th>\n",
       "      <th>Genetic 5 points BEST</th>\n",
       "      <th>Genetic 5 points TIME</th>\n",
       "      <th>Greedy 5 points BEST</th>\n",
       "      <th>Greedy 5 points TIME</th>\n",
       "      <th>Ant colony 10 points BEST</th>\n",
       "      <th>Ant colony 10 points TIME</th>\n",
       "      <th>Genetic 10 points BEST</th>\n",
       "      <th>Genetic 10 points TIME</th>\n",
       "      <th>...</th>\n",
       "      <th>Genetic 35 points BEST</th>\n",
       "      <th>Genetic 35 points TIME</th>\n",
       "      <th>Greedy 35 points BEST</th>\n",
       "      <th>Greedy 35 points TIME</th>\n",
       "      <th>Ant colony 40 points BEST</th>\n",
       "      <th>Ant colony 40 points TIME</th>\n",
       "      <th>Genetic 40 points BEST</th>\n",
       "      <th>Genetic 40 points TIME</th>\n",
       "      <th>Greedy 40 points BEST</th>\n",
       "      <th>Greedy 40 points TIME</th>\n",
       "    </tr>\n",
       "    <tr>\n",
       "      <th>Run</th>\n",
       "      <th></th>\n",
       "      <th></th>\n",
       "      <th></th>\n",
       "      <th></th>\n",
       "      <th></th>\n",
       "      <th></th>\n",
       "      <th></th>\n",
       "      <th></th>\n",
       "      <th></th>\n",
       "      <th></th>\n",
       "      <th></th>\n",
       "      <th></th>\n",
       "      <th></th>\n",
       "      <th></th>\n",
       "      <th></th>\n",
       "      <th></th>\n",
       "      <th></th>\n",
       "      <th></th>\n",
       "      <th></th>\n",
       "      <th></th>\n",
       "      <th></th>\n",
       "    </tr>\n",
       "  </thead>\n",
       "  <tbody>\n",
       "    <tr>\n",
       "      <th>0</th>\n",
       "      <td>2.101781</td>\n",
       "      <td>0.185342</td>\n",
       "      <td>2.101781</td>\n",
       "      <td>8.328870</td>\n",
       "      <td>1.723192</td>\n",
       "      <td>0.000042</td>\n",
       "      <td>3.459594</td>\n",
       "      <td>0.374849</td>\n",
       "      <td>3.479298</td>\n",
       "      <td>12.193980</td>\n",
       "      <td>...</td>\n",
       "      <td>11.860759</td>\n",
       "      <td>49.590118</td>\n",
       "      <td>5.554703</td>\n",
       "      <td>0.000794</td>\n",
       "      <td>5.776603</td>\n",
       "      <td>2.227840</td>\n",
       "      <td>14.206049</td>\n",
       "      <td>87.224305</td>\n",
       "      <td>5.993664</td>\n",
       "      <td>0.001179</td>\n",
       "    </tr>\n",
       "    <tr>\n",
       "      <th>1</th>\n",
       "      <td>2.101781</td>\n",
       "      <td>0.169584</td>\n",
       "      <td>2.101781</td>\n",
       "      <td>8.442375</td>\n",
       "      <td>1.723192</td>\n",
       "      <td>0.000049</td>\n",
       "      <td>3.459594</td>\n",
       "      <td>0.375289</td>\n",
       "      <td>3.479298</td>\n",
       "      <td>27.014904</td>\n",
       "      <td>...</td>\n",
       "      <td>11.201676</td>\n",
       "      <td>23.743566</td>\n",
       "      <td>5.554703</td>\n",
       "      <td>0.000793</td>\n",
       "      <td>5.650524</td>\n",
       "      <td>2.377327</td>\n",
       "      <td>13.715528</td>\n",
       "      <td>37.554949</td>\n",
       "      <td>5.993664</td>\n",
       "      <td>0.001567</td>\n",
       "    </tr>\n",
       "    <tr>\n",
       "      <th>2</th>\n",
       "      <td>2.101781</td>\n",
       "      <td>0.168047</td>\n",
       "      <td>2.101781</td>\n",
       "      <td>8.484900</td>\n",
       "      <td>1.723192</td>\n",
       "      <td>0.000038</td>\n",
       "      <td>3.472207</td>\n",
       "      <td>0.376323</td>\n",
       "      <td>3.514216</td>\n",
       "      <td>12.266992</td>\n",
       "      <td>...</td>\n",
       "      <td>11.672088</td>\n",
       "      <td>72.379997</td>\n",
       "      <td>5.554703</td>\n",
       "      <td>0.000805</td>\n",
       "      <td>5.848114</td>\n",
       "      <td>2.321596</td>\n",
       "      <td>13.781927</td>\n",
       "      <td>49.952655</td>\n",
       "      <td>5.993664</td>\n",
       "      <td>0.001314</td>\n",
       "    </tr>\n",
       "    <tr>\n",
       "      <th>3</th>\n",
       "      <td>2.101781</td>\n",
       "      <td>0.198916</td>\n",
       "      <td>2.101781</td>\n",
       "      <td>8.979511</td>\n",
       "      <td>1.723192</td>\n",
       "      <td>0.000038</td>\n",
       "      <td>3.459594</td>\n",
       "      <td>0.378644</td>\n",
       "      <td>3.523454</td>\n",
       "      <td>24.485989</td>\n",
       "      <td>...</td>\n",
       "      <td>12.514719</td>\n",
       "      <td>45.304573</td>\n",
       "      <td>5.554703</td>\n",
       "      <td>0.000802</td>\n",
       "      <td>5.984249</td>\n",
       "      <td>2.346089</td>\n",
       "      <td>14.162082</td>\n",
       "      <td>61.161966</td>\n",
       "      <td>5.993664</td>\n",
       "      <td>0.001183</td>\n",
       "    </tr>\n",
       "    <tr>\n",
       "      <th>4</th>\n",
       "      <td>2.101781</td>\n",
       "      <td>0.169684</td>\n",
       "      <td>2.101781</td>\n",
       "      <td>8.010074</td>\n",
       "      <td>1.723192</td>\n",
       "      <td>0.000038</td>\n",
       "      <td>3.459594</td>\n",
       "      <td>0.381763</td>\n",
       "      <td>3.720871</td>\n",
       "      <td>10.544823</td>\n",
       "      <td>...</td>\n",
       "      <td>12.006419</td>\n",
       "      <td>64.647533</td>\n",
       "      <td>5.554703</td>\n",
       "      <td>0.000892</td>\n",
       "      <td>5.868233</td>\n",
       "      <td>2.205813</td>\n",
       "      <td>13.840821</td>\n",
       "      <td>91.807230</td>\n",
       "      <td>5.993664</td>\n",
       "      <td>0.001135</td>\n",
       "    </tr>\n",
       "    <tr>\n",
       "      <th>5</th>\n",
       "      <td>2.101781</td>\n",
       "      <td>0.164652</td>\n",
       "      <td>2.101781</td>\n",
       "      <td>7.888015</td>\n",
       "      <td>1.723192</td>\n",
       "      <td>0.000037</td>\n",
       "      <td>3.479298</td>\n",
       "      <td>0.375760</td>\n",
       "      <td>3.511297</td>\n",
       "      <td>21.423244</td>\n",
       "      <td>...</td>\n",
       "      <td>12.620946</td>\n",
       "      <td>40.465747</td>\n",
       "      <td>5.554703</td>\n",
       "      <td>0.000887</td>\n",
       "      <td>5.902530</td>\n",
       "      <td>2.269464</td>\n",
       "      <td>14.141656</td>\n",
       "      <td>35.049655</td>\n",
       "      <td>5.993664</td>\n",
       "      <td>0.001191</td>\n",
       "    </tr>\n",
       "    <tr>\n",
       "      <th>6</th>\n",
       "      <td>2.101781</td>\n",
       "      <td>0.166734</td>\n",
       "      <td>2.101781</td>\n",
       "      <td>7.979096</td>\n",
       "      <td>1.723192</td>\n",
       "      <td>0.000042</td>\n",
       "      <td>3.479298</td>\n",
       "      <td>0.374302</td>\n",
       "      <td>3.519393</td>\n",
       "      <td>16.710184</td>\n",
       "      <td>...</td>\n",
       "      <td>11.903311</td>\n",
       "      <td>35.760138</td>\n",
       "      <td>5.554703</td>\n",
       "      <td>0.000991</td>\n",
       "      <td>5.860962</td>\n",
       "      <td>2.253444</td>\n",
       "      <td>14.180833</td>\n",
       "      <td>43.059603</td>\n",
       "      <td>5.993664</td>\n",
       "      <td>0.001216</td>\n",
       "    </tr>\n",
       "    <tr>\n",
       "      <th>7</th>\n",
       "      <td>2.101781</td>\n",
       "      <td>0.165801</td>\n",
       "      <td>2.101781</td>\n",
       "      <td>7.959070</td>\n",
       "      <td>1.723192</td>\n",
       "      <td>0.000037</td>\n",
       "      <td>3.459594</td>\n",
       "      <td>0.378006</td>\n",
       "      <td>3.479298</td>\n",
       "      <td>26.344049</td>\n",
       "      <td>...</td>\n",
       "      <td>11.693408</td>\n",
       "      <td>57.708751</td>\n",
       "      <td>5.554703</td>\n",
       "      <td>0.000919</td>\n",
       "      <td>5.885010</td>\n",
       "      <td>3.659844</td>\n",
       "      <td>14.556455</td>\n",
       "      <td>56.248831</td>\n",
       "      <td>5.993664</td>\n",
       "      <td>0.001674</td>\n",
       "    </tr>\n",
       "    <tr>\n",
       "      <th>8</th>\n",
       "      <td>2.101781</td>\n",
       "      <td>0.166433</td>\n",
       "      <td>2.101781</td>\n",
       "      <td>8.069458</td>\n",
       "      <td>1.723192</td>\n",
       "      <td>0.000065</td>\n",
       "      <td>3.459594</td>\n",
       "      <td>0.377002</td>\n",
       "      <td>3.459594</td>\n",
       "      <td>25.864868</td>\n",
       "      <td>...</td>\n",
       "      <td>12.212150</td>\n",
       "      <td>80.876195</td>\n",
       "      <td>5.554703</td>\n",
       "      <td>0.001006</td>\n",
       "      <td>5.721808</td>\n",
       "      <td>2.299717</td>\n",
       "      <td>14.617859</td>\n",
       "      <td>32.270499</td>\n",
       "      <td>5.993664</td>\n",
       "      <td>0.001337</td>\n",
       "    </tr>\n",
       "    <tr>\n",
       "      <th>9</th>\n",
       "      <td>2.101781</td>\n",
       "      <td>0.171352</td>\n",
       "      <td>2.101781</td>\n",
       "      <td>8.109837</td>\n",
       "      <td>1.723192</td>\n",
       "      <td>0.000046</td>\n",
       "      <td>3.459594</td>\n",
       "      <td>0.391189</td>\n",
       "      <td>3.517155</td>\n",
       "      <td>10.696682</td>\n",
       "      <td>...</td>\n",
       "      <td>12.615340</td>\n",
       "      <td>29.200393</td>\n",
       "      <td>5.554703</td>\n",
       "      <td>0.001311</td>\n",
       "      <td>5.870622</td>\n",
       "      <td>2.353009</td>\n",
       "      <td>13.931464</td>\n",
       "      <td>45.190032</td>\n",
       "      <td>5.993664</td>\n",
       "      <td>0.001224</td>\n",
       "    </tr>\n",
       "  </tbody>\n",
       "</table>\n",
       "<p>10 rows × 48 columns</p>\n",
       "</div>"
      ],
      "text/plain": [
       "     Ant colony 5 points BEST  Ant colony 5 points TIME  \\\n",
       "Run                                                       \n",
       "0                    2.101781                  0.185342   \n",
       "1                    2.101781                  0.169584   \n",
       "2                    2.101781                  0.168047   \n",
       "3                    2.101781                  0.198916   \n",
       "4                    2.101781                  0.169684   \n",
       "5                    2.101781                  0.164652   \n",
       "6                    2.101781                  0.166734   \n",
       "7                    2.101781                  0.165801   \n",
       "8                    2.101781                  0.166433   \n",
       "9                    2.101781                  0.171352   \n",
       "\n",
       "     Genetic 5 points BEST  Genetic 5 points TIME  Greedy 5 points BEST  \\\n",
       "Run                                                                       \n",
       "0                 2.101781               8.328870              1.723192   \n",
       "1                 2.101781               8.442375              1.723192   \n",
       "2                 2.101781               8.484900              1.723192   \n",
       "3                 2.101781               8.979511              1.723192   \n",
       "4                 2.101781               8.010074              1.723192   \n",
       "5                 2.101781               7.888015              1.723192   \n",
       "6                 2.101781               7.979096              1.723192   \n",
       "7                 2.101781               7.959070              1.723192   \n",
       "8                 2.101781               8.069458              1.723192   \n",
       "9                 2.101781               8.109837              1.723192   \n",
       "\n",
       "     Greedy 5 points TIME  Ant colony 10 points BEST  \\\n",
       "Run                                                    \n",
       "0                0.000042                   3.459594   \n",
       "1                0.000049                   3.459594   \n",
       "2                0.000038                   3.472207   \n",
       "3                0.000038                   3.459594   \n",
       "4                0.000038                   3.459594   \n",
       "5                0.000037                   3.479298   \n",
       "6                0.000042                   3.479298   \n",
       "7                0.000037                   3.459594   \n",
       "8                0.000065                   3.459594   \n",
       "9                0.000046                   3.459594   \n",
       "\n",
       "     Ant colony 10 points TIME  Genetic 10 points BEST  \\\n",
       "Run                                                      \n",
       "0                     0.374849                3.479298   \n",
       "1                     0.375289                3.479298   \n",
       "2                     0.376323                3.514216   \n",
       "3                     0.378644                3.523454   \n",
       "4                     0.381763                3.720871   \n",
       "5                     0.375760                3.511297   \n",
       "6                     0.374302                3.519393   \n",
       "7                     0.378006                3.479298   \n",
       "8                     0.377002                3.459594   \n",
       "9                     0.391189                3.517155   \n",
       "\n",
       "     Genetic 10 points TIME  ...  Genetic 35 points BEST  \\\n",
       "Run                          ...                           \n",
       "0                 12.193980  ...               11.860759   \n",
       "1                 27.014904  ...               11.201676   \n",
       "2                 12.266992  ...               11.672088   \n",
       "3                 24.485989  ...               12.514719   \n",
       "4                 10.544823  ...               12.006419   \n",
       "5                 21.423244  ...               12.620946   \n",
       "6                 16.710184  ...               11.903311   \n",
       "7                 26.344049  ...               11.693408   \n",
       "8                 25.864868  ...               12.212150   \n",
       "9                 10.696682  ...               12.615340   \n",
       "\n",
       "     Genetic 35 points TIME  Greedy 35 points BEST  Greedy 35 points TIME  \\\n",
       "Run                                                                         \n",
       "0                 49.590118               5.554703               0.000794   \n",
       "1                 23.743566               5.554703               0.000793   \n",
       "2                 72.379997               5.554703               0.000805   \n",
       "3                 45.304573               5.554703               0.000802   \n",
       "4                 64.647533               5.554703               0.000892   \n",
       "5                 40.465747               5.554703               0.000887   \n",
       "6                 35.760138               5.554703               0.000991   \n",
       "7                 57.708751               5.554703               0.000919   \n",
       "8                 80.876195               5.554703               0.001006   \n",
       "9                 29.200393               5.554703               0.001311   \n",
       "\n",
       "     Ant colony 40 points BEST  Ant colony 40 points TIME  \\\n",
       "Run                                                         \n",
       "0                     5.776603                   2.227840   \n",
       "1                     5.650524                   2.377327   \n",
       "2                     5.848114                   2.321596   \n",
       "3                     5.984249                   2.346089   \n",
       "4                     5.868233                   2.205813   \n",
       "5                     5.902530                   2.269464   \n",
       "6                     5.860962                   2.253444   \n",
       "7                     5.885010                   3.659844   \n",
       "8                     5.721808                   2.299717   \n",
       "9                     5.870622                   2.353009   \n",
       "\n",
       "     Genetic 40 points BEST  Genetic 40 points TIME  Greedy 40 points BEST  \\\n",
       "Run                                                                          \n",
       "0                 14.206049               87.224305               5.993664   \n",
       "1                 13.715528               37.554949               5.993664   \n",
       "2                 13.781927               49.952655               5.993664   \n",
       "3                 14.162082               61.161966               5.993664   \n",
       "4                 13.840821               91.807230               5.993664   \n",
       "5                 14.141656               35.049655               5.993664   \n",
       "6                 14.180833               43.059603               5.993664   \n",
       "7                 14.556455               56.248831               5.993664   \n",
       "8                 14.617859               32.270499               5.993664   \n",
       "9                 13.931464               45.190032               5.993664   \n",
       "\n",
       "     Greedy 40 points TIME  \n",
       "Run                         \n",
       "0                 0.001179  \n",
       "1                 0.001567  \n",
       "2                 0.001314  \n",
       "3                 0.001183  \n",
       "4                 0.001135  \n",
       "5                 0.001191  \n",
       "6                 0.001216  \n",
       "7                 0.001674  \n",
       "8                 0.001337  \n",
       "9                 0.001224  \n",
       "\n",
       "[10 rows x 48 columns]"
      ]
     },
     "execution_count": 145,
     "metadata": {},
     "output_type": "execute_result"
    }
   ],
   "source": [
    "df_results = pd.DataFrame(data=results)\n",
    "df_results.index.name = \"Run\"\n",
    "df_results"
   ]
  },
  {
   "cell_type": "code",
   "execution_count": 146,
   "metadata": {},
   "outputs": [
    {
     "data": {
      "text/html": [
       "<div>\n",
       "<style scoped>\n",
       "    .dataframe tbody tr th:only-of-type {\n",
       "        vertical-align: middle;\n",
       "    }\n",
       "\n",
       "    .dataframe tbody tr th {\n",
       "        vertical-align: top;\n",
       "    }\n",
       "\n",
       "    .dataframe thead th {\n",
       "        text-align: right;\n",
       "    }\n",
       "</style>\n",
       "<table border=\"1\" class=\"dataframe\">\n",
       "  <thead>\n",
       "    <tr style=\"text-align: right;\">\n",
       "      <th></th>\n",
       "      <th>Algo</th>\n",
       "      <th>N points</th>\n",
       "      <th>Time</th>\n",
       "      <th>Best</th>\n",
       "      <th>N run</th>\n",
       "    </tr>\n",
       "  </thead>\n",
       "  <tbody>\n",
       "    <tr>\n",
       "      <th>0</th>\n",
       "      <td>Ant colony</td>\n",
       "      <td>5</td>\n",
       "      <td>0.185342</td>\n",
       "      <td>2.101781</td>\n",
       "      <td>1</td>\n",
       "    </tr>\n",
       "    <tr>\n",
       "      <th>1</th>\n",
       "      <td>Genetic</td>\n",
       "      <td>5</td>\n",
       "      <td>8.328870</td>\n",
       "      <td>2.101781</td>\n",
       "      <td>1</td>\n",
       "    </tr>\n",
       "    <tr>\n",
       "      <th>2</th>\n",
       "      <td>Greedy</td>\n",
       "      <td>5</td>\n",
       "      <td>0.000042</td>\n",
       "      <td>1.723192</td>\n",
       "      <td>1</td>\n",
       "    </tr>\n",
       "    <tr>\n",
       "      <th>3</th>\n",
       "      <td>Ant colony</td>\n",
       "      <td>5</td>\n",
       "      <td>0.169584</td>\n",
       "      <td>2.101781</td>\n",
       "      <td>2</td>\n",
       "    </tr>\n",
       "    <tr>\n",
       "      <th>4</th>\n",
       "      <td>Genetic</td>\n",
       "      <td>5</td>\n",
       "      <td>8.442375</td>\n",
       "      <td>2.101781</td>\n",
       "      <td>2</td>\n",
       "    </tr>\n",
       "    <tr>\n",
       "      <th>...</th>\n",
       "      <td>...</td>\n",
       "      <td>...</td>\n",
       "      <td>...</td>\n",
       "      <td>...</td>\n",
       "      <td>...</td>\n",
       "    </tr>\n",
       "    <tr>\n",
       "      <th>235</th>\n",
       "      <td>Genetic</td>\n",
       "      <td>40</td>\n",
       "      <td>32.270499</td>\n",
       "      <td>14.617859</td>\n",
       "      <td>9</td>\n",
       "    </tr>\n",
       "    <tr>\n",
       "      <th>236</th>\n",
       "      <td>Greedy</td>\n",
       "      <td>40</td>\n",
       "      <td>0.001337</td>\n",
       "      <td>5.993664</td>\n",
       "      <td>9</td>\n",
       "    </tr>\n",
       "    <tr>\n",
       "      <th>237</th>\n",
       "      <td>Ant colony</td>\n",
       "      <td>40</td>\n",
       "      <td>2.353009</td>\n",
       "      <td>5.870622</td>\n",
       "      <td>10</td>\n",
       "    </tr>\n",
       "    <tr>\n",
       "      <th>238</th>\n",
       "      <td>Genetic</td>\n",
       "      <td>40</td>\n",
       "      <td>45.190032</td>\n",
       "      <td>13.931464</td>\n",
       "      <td>10</td>\n",
       "    </tr>\n",
       "    <tr>\n",
       "      <th>239</th>\n",
       "      <td>Greedy</td>\n",
       "      <td>40</td>\n",
       "      <td>0.001224</td>\n",
       "      <td>5.993664</td>\n",
       "      <td>10</td>\n",
       "    </tr>\n",
       "  </tbody>\n",
       "</table>\n",
       "<p>240 rows × 5 columns</p>\n",
       "</div>"
      ],
      "text/plain": [
       "           Algo  N points       Time       Best  N run\n",
       "0    Ant colony         5   0.185342   2.101781      1\n",
       "1       Genetic         5   8.328870   2.101781      1\n",
       "2        Greedy         5   0.000042   1.723192      1\n",
       "3    Ant colony         5   0.169584   2.101781      2\n",
       "4       Genetic         5   8.442375   2.101781      2\n",
       "..          ...       ...        ...        ...    ...\n",
       "235     Genetic        40  32.270499  14.617859      9\n",
       "236      Greedy        40   0.001337   5.993664      9\n",
       "237  Ant colony        40   2.353009   5.870622     10\n",
       "238     Genetic        40  45.190032  13.931464     10\n",
       "239      Greedy        40   0.001224   5.993664     10\n",
       "\n",
       "[240 rows x 5 columns]"
      ]
     },
     "execution_count": 146,
     "metadata": {},
     "output_type": "execute_result"
    }
   ],
   "source": [
    "df_res_scatter = pd.DataFrame(data=res_scatter)\n",
    "df_res_scatter"
   ]
  },
  {
   "cell_type": "code",
   "execution_count": 149,
   "metadata": {},
   "outputs": [],
   "source": [
    "df_res_scatter_noise = df_res_scatter.copy()"
   ]
  },
  {
   "cell_type": "code",
   "execution_count": 155,
   "metadata": {},
   "outputs": [],
   "source": [
    "df_res_scatter_noise[\"N points\"] = df_res_scatter[\"N points\"] + np.random.normal(0, 0.8, size=len(list(df_res_scatter[\"N points\"])))"
   ]
  },
  {
   "cell_type": "code",
   "execution_count": 156,
   "metadata": {},
   "outputs": [
    {
     "data": {
      "text/html": [
       "<div>\n",
       "<style scoped>\n",
       "    .dataframe tbody tr th:only-of-type {\n",
       "        vertical-align: middle;\n",
       "    }\n",
       "\n",
       "    .dataframe tbody tr th {\n",
       "        vertical-align: top;\n",
       "    }\n",
       "\n",
       "    .dataframe thead th {\n",
       "        text-align: right;\n",
       "    }\n",
       "</style>\n",
       "<table border=\"1\" class=\"dataframe\">\n",
       "  <thead>\n",
       "    <tr style=\"text-align: right;\">\n",
       "      <th></th>\n",
       "      <th>Algo</th>\n",
       "      <th>N points</th>\n",
       "      <th>Time</th>\n",
       "      <th>Best</th>\n",
       "      <th>N run</th>\n",
       "    </tr>\n",
       "  </thead>\n",
       "  <tbody>\n",
       "    <tr>\n",
       "      <th>0</th>\n",
       "      <td>Ant colony</td>\n",
       "      <td>5.435288</td>\n",
       "      <td>0.185342</td>\n",
       "      <td>2.101781</td>\n",
       "      <td>1</td>\n",
       "    </tr>\n",
       "    <tr>\n",
       "      <th>1</th>\n",
       "      <td>Genetic</td>\n",
       "      <td>7.050974</td>\n",
       "      <td>8.328870</td>\n",
       "      <td>2.101781</td>\n",
       "      <td>1</td>\n",
       "    </tr>\n",
       "    <tr>\n",
       "      <th>2</th>\n",
       "      <td>Greedy</td>\n",
       "      <td>6.326220</td>\n",
       "      <td>0.000042</td>\n",
       "      <td>1.723192</td>\n",
       "      <td>1</td>\n",
       "    </tr>\n",
       "    <tr>\n",
       "      <th>3</th>\n",
       "      <td>Ant colony</td>\n",
       "      <td>5.030252</td>\n",
       "      <td>0.169584</td>\n",
       "      <td>2.101781</td>\n",
       "      <td>2</td>\n",
       "    </tr>\n",
       "    <tr>\n",
       "      <th>4</th>\n",
       "      <td>Genetic</td>\n",
       "      <td>5.405098</td>\n",
       "      <td>8.442375</td>\n",
       "      <td>2.101781</td>\n",
       "      <td>2</td>\n",
       "    </tr>\n",
       "    <tr>\n",
       "      <th>...</th>\n",
       "      <td>...</td>\n",
       "      <td>...</td>\n",
       "      <td>...</td>\n",
       "      <td>...</td>\n",
       "      <td>...</td>\n",
       "    </tr>\n",
       "    <tr>\n",
       "      <th>235</th>\n",
       "      <td>Genetic</td>\n",
       "      <td>38.808766</td>\n",
       "      <td>32.270499</td>\n",
       "      <td>14.617859</td>\n",
       "      <td>9</td>\n",
       "    </tr>\n",
       "    <tr>\n",
       "      <th>236</th>\n",
       "      <td>Greedy</td>\n",
       "      <td>38.911194</td>\n",
       "      <td>0.001337</td>\n",
       "      <td>5.993664</td>\n",
       "      <td>9</td>\n",
       "    </tr>\n",
       "    <tr>\n",
       "      <th>237</th>\n",
       "      <td>Ant colony</td>\n",
       "      <td>39.092552</td>\n",
       "      <td>2.353009</td>\n",
       "      <td>5.870622</td>\n",
       "      <td>10</td>\n",
       "    </tr>\n",
       "    <tr>\n",
       "      <th>238</th>\n",
       "      <td>Genetic</td>\n",
       "      <td>40.214306</td>\n",
       "      <td>45.190032</td>\n",
       "      <td>13.931464</td>\n",
       "      <td>10</td>\n",
       "    </tr>\n",
       "    <tr>\n",
       "      <th>239</th>\n",
       "      <td>Greedy</td>\n",
       "      <td>39.919078</td>\n",
       "      <td>0.001224</td>\n",
       "      <td>5.993664</td>\n",
       "      <td>10</td>\n",
       "    </tr>\n",
       "  </tbody>\n",
       "</table>\n",
       "<p>240 rows × 5 columns</p>\n",
       "</div>"
      ],
      "text/plain": [
       "           Algo   N points       Time       Best  N run\n",
       "0    Ant colony   5.435288   0.185342   2.101781      1\n",
       "1       Genetic   7.050974   8.328870   2.101781      1\n",
       "2        Greedy   6.326220   0.000042   1.723192      1\n",
       "3    Ant colony   5.030252   0.169584   2.101781      2\n",
       "4       Genetic   5.405098   8.442375   2.101781      2\n",
       "..          ...        ...        ...        ...    ...\n",
       "235     Genetic  38.808766  32.270499  14.617859      9\n",
       "236      Greedy  38.911194   0.001337   5.993664      9\n",
       "237  Ant colony  39.092552   2.353009   5.870622     10\n",
       "238     Genetic  40.214306  45.190032  13.931464     10\n",
       "239      Greedy  39.919078   0.001224   5.993664     10\n",
       "\n",
       "[240 rows x 5 columns]"
      ]
     },
     "execution_count": 156,
     "metadata": {},
     "output_type": "execute_result"
    }
   ],
   "source": [
    "df_res_scatter_noise"
   ]
  },
  {
   "cell_type": "code",
   "execution_count": 174,
   "metadata": {},
   "outputs": [],
   "source": [
    "df_res_scatter_noise.rename(columns={\"Best\":\"Distance\"},inplace=True)"
   ]
  },
  {
   "cell_type": "code",
   "execution_count": 183,
   "metadata": {},
   "outputs": [],
   "source": [
    "df_res_scatter_noise.rename(columns={\"Time\":\"Run time(s)\"},inplace=True)"
   ]
  },
  {
   "cell_type": "code",
   "execution_count": 175,
   "metadata": {},
   "outputs": [],
   "source": [
    "df_res_scatter_noise[\"Time\"] = df_res_scatter_noise[\"Time\"].apply(lambda x: round(x,4))\n",
    "df_res_scatter_noise[\"Distance\"] = df_res_scatter_noise[\"Distance\"].apply(lambda x: round(x,4))"
   ]
  },
  {
   "cell_type": "code",
   "execution_count": 176,
   "metadata": {},
   "outputs": [
    {
     "data": {
      "text/html": [
       "<div>\n",
       "<style scoped>\n",
       "    .dataframe tbody tr th:only-of-type {\n",
       "        vertical-align: middle;\n",
       "    }\n",
       "\n",
       "    .dataframe tbody tr th {\n",
       "        vertical-align: top;\n",
       "    }\n",
       "\n",
       "    .dataframe thead th {\n",
       "        text-align: right;\n",
       "    }\n",
       "</style>\n",
       "<table border=\"1\" class=\"dataframe\">\n",
       "  <thead>\n",
       "    <tr style=\"text-align: right;\">\n",
       "      <th></th>\n",
       "      <th>Algo</th>\n",
       "      <th>N points</th>\n",
       "      <th>Time</th>\n",
       "      <th>Distance</th>\n",
       "      <th>N run</th>\n",
       "    </tr>\n",
       "  </thead>\n",
       "  <tbody>\n",
       "    <tr>\n",
       "      <th>0</th>\n",
       "      <td>Ant colony</td>\n",
       "      <td>5.435288</td>\n",
       "      <td>0.1853</td>\n",
       "      <td>2.1018</td>\n",
       "      <td>1</td>\n",
       "    </tr>\n",
       "    <tr>\n",
       "      <th>1</th>\n",
       "      <td>Genetic</td>\n",
       "      <td>7.050974</td>\n",
       "      <td>8.3289</td>\n",
       "      <td>2.1018</td>\n",
       "      <td>1</td>\n",
       "    </tr>\n",
       "    <tr>\n",
       "      <th>2</th>\n",
       "      <td>Greedy</td>\n",
       "      <td>6.326220</td>\n",
       "      <td>0.0000</td>\n",
       "      <td>1.7232</td>\n",
       "      <td>1</td>\n",
       "    </tr>\n",
       "    <tr>\n",
       "      <th>3</th>\n",
       "      <td>Ant colony</td>\n",
       "      <td>5.030252</td>\n",
       "      <td>0.1696</td>\n",
       "      <td>2.1018</td>\n",
       "      <td>2</td>\n",
       "    </tr>\n",
       "    <tr>\n",
       "      <th>4</th>\n",
       "      <td>Genetic</td>\n",
       "      <td>5.405098</td>\n",
       "      <td>8.4424</td>\n",
       "      <td>2.1018</td>\n",
       "      <td>2</td>\n",
       "    </tr>\n",
       "    <tr>\n",
       "      <th>...</th>\n",
       "      <td>...</td>\n",
       "      <td>...</td>\n",
       "      <td>...</td>\n",
       "      <td>...</td>\n",
       "      <td>...</td>\n",
       "    </tr>\n",
       "    <tr>\n",
       "      <th>235</th>\n",
       "      <td>Genetic</td>\n",
       "      <td>38.808766</td>\n",
       "      <td>32.2705</td>\n",
       "      <td>14.6179</td>\n",
       "      <td>9</td>\n",
       "    </tr>\n",
       "    <tr>\n",
       "      <th>236</th>\n",
       "      <td>Greedy</td>\n",
       "      <td>38.911194</td>\n",
       "      <td>0.0013</td>\n",
       "      <td>5.9937</td>\n",
       "      <td>9</td>\n",
       "    </tr>\n",
       "    <tr>\n",
       "      <th>237</th>\n",
       "      <td>Ant colony</td>\n",
       "      <td>39.092552</td>\n",
       "      <td>2.3530</td>\n",
       "      <td>5.8706</td>\n",
       "      <td>10</td>\n",
       "    </tr>\n",
       "    <tr>\n",
       "      <th>238</th>\n",
       "      <td>Genetic</td>\n",
       "      <td>40.214306</td>\n",
       "      <td>45.1900</td>\n",
       "      <td>13.9315</td>\n",
       "      <td>10</td>\n",
       "    </tr>\n",
       "    <tr>\n",
       "      <th>239</th>\n",
       "      <td>Greedy</td>\n",
       "      <td>39.919078</td>\n",
       "      <td>0.0012</td>\n",
       "      <td>5.9937</td>\n",
       "      <td>10</td>\n",
       "    </tr>\n",
       "  </tbody>\n",
       "</table>\n",
       "<p>240 rows × 5 columns</p>\n",
       "</div>"
      ],
      "text/plain": [
       "           Algo   N points     Time  Distance  N run\n",
       "0    Ant colony   5.435288   0.1853    2.1018      1\n",
       "1       Genetic   7.050974   8.3289    2.1018      1\n",
       "2        Greedy   6.326220   0.0000    1.7232      1\n",
       "3    Ant colony   5.030252   0.1696    2.1018      2\n",
       "4       Genetic   5.405098   8.4424    2.1018      2\n",
       "..          ...        ...      ...       ...    ...\n",
       "235     Genetic  38.808766  32.2705   14.6179      9\n",
       "236      Greedy  38.911194   0.0013    5.9937      9\n",
       "237  Ant colony  39.092552   2.3530    5.8706     10\n",
       "238     Genetic  40.214306  45.1900   13.9315     10\n",
       "239      Greedy  39.919078   0.0012    5.9937     10\n",
       "\n",
       "[240 rows x 5 columns]"
      ]
     },
     "execution_count": 176,
     "metadata": {},
     "output_type": "execute_result"
    }
   ],
   "source": [
    "df_res_scatter_noise"
   ]
  },
  {
   "cell_type": "code",
   "execution_count": 158,
   "metadata": {},
   "outputs": [],
   "source": [
    "import plotly.express as px"
   ]
  },
  {
   "cell_type": "code",
   "execution_count": 191,
   "metadata": {},
   "outputs": [
    {
     "data": {
      "application/vnd.plotly.v1+json": {
       "config": {
        "plotlyServerURL": "https://plot.ly"
       },
       "data": [
        {
         "customdata": [
          [
           "Ant colony",
           0.1853
          ],
          [
           "Ant colony",
           0.1696
          ],
          [
           "Ant colony",
           0.168
          ],
          [
           "Ant colony",
           0.1989
          ],
          [
           "Ant colony",
           0.1697
          ],
          [
           "Ant colony",
           0.1647
          ],
          [
           "Ant colony",
           0.1667
          ],
          [
           "Ant colony",
           0.1658
          ],
          [
           "Ant colony",
           0.1664
          ],
          [
           "Ant colony",
           0.1714
          ],
          [
           "Ant colony",
           0.3748
          ],
          [
           "Ant colony",
           0.3753
          ],
          [
           "Ant colony",
           0.3763
          ],
          [
           "Ant colony",
           0.3786
          ],
          [
           "Ant colony",
           0.3818
          ],
          [
           "Ant colony",
           0.3758
          ],
          [
           "Ant colony",
           0.3743
          ],
          [
           "Ant colony",
           0.378
          ],
          [
           "Ant colony",
           0.377
          ],
          [
           "Ant colony",
           0.3912
          ],
          [
           "Ant colony",
           0.6038
          ],
          [
           "Ant colony",
           0.5923
          ],
          [
           "Ant colony",
           0.5915
          ],
          [
           "Ant colony",
           0.5909
          ],
          [
           "Ant colony",
           0.5736
          ],
          [
           "Ant colony",
           0.6003
          ],
          [
           "Ant colony",
           0.5888
          ],
          [
           "Ant colony",
           0.5842
          ],
          [
           "Ant colony",
           0.586
          ],
          [
           "Ant colony",
           0.5814
          ],
          [
           "Ant colony",
           0.8065
          ],
          [
           "Ant colony",
           0.8071
          ],
          [
           "Ant colony",
           0.8069
          ],
          [
           "Ant colony",
           0.8132
          ],
          [
           "Ant colony",
           0.8084
          ],
          [
           "Ant colony",
           0.817
          ],
          [
           "Ant colony",
           0.8134
          ],
          [
           "Ant colony",
           0.8146
          ],
          [
           "Ant colony",
           0.8141
          ],
          [
           "Ant colony",
           0.8263
          ],
          [
           "Ant colony",
           1.1165
          ],
          [
           "Ant colony",
           1.0224
          ],
          [
           "Ant colony",
           1.021
          ],
          [
           "Ant colony",
           1.076
          ],
          [
           "Ant colony",
           1.0613
          ],
          [
           "Ant colony",
           1.2237
          ],
          [
           "Ant colony",
           1.1315
          ],
          [
           "Ant colony",
           1.0755
          ],
          [
           "Ant colony",
           1.0205
          ],
          [
           "Ant colony",
           1.067
          ],
          [
           "Ant colony",
           1.2685
          ],
          [
           "Ant colony",
           1.2744
          ],
          [
           "Ant colony",
           1.2466
          ],
          [
           "Ant colony",
           1.2574
          ],
          [
           "Ant colony",
           1.2728
          ],
          [
           "Ant colony",
           1.5272
          ],
          [
           "Ant colony",
           1.3559
          ],
          [
           "Ant colony",
           1.3264
          ],
          [
           "Ant colony",
           1.3701
          ],
          [
           "Ant colony",
           1.3175
          ],
          [
           "Ant colony",
           2.4877
          ],
          [
           "Ant colony",
           1.5477
          ],
          [
           "Ant colony",
           1.5346
          ],
          [
           "Ant colony",
           1.5087
          ],
          [
           "Ant colony",
           1.6643
          ],
          [
           "Ant colony",
           2.0499
          ],
          [
           "Ant colony",
           1.8853
          ],
          [
           "Ant colony",
           1.96
          ],
          [
           "Ant colony",
           1.9718
          ],
          [
           "Ant colony",
           1.9635
          ],
          [
           "Ant colony",
           2.2278
          ],
          [
           "Ant colony",
           2.3773
          ],
          [
           "Ant colony",
           2.3216
          ],
          [
           "Ant colony",
           2.3461
          ],
          [
           "Ant colony",
           2.2058
          ],
          [
           "Ant colony",
           2.2695
          ],
          [
           "Ant colony",
           2.2534
          ],
          [
           "Ant colony",
           3.6598
          ],
          [
           "Ant colony",
           2.2997
          ],
          [
           "Ant colony",
           2.353
          ]
         ],
         "hovertemplate": "Algo=%{customdata[0]}<br>Distance=%{y}<br>Run time(s)=%{customdata[1]}<extra></extra>",
         "legendgroup": "Ant colony",
         "marker": {
          "color": "#636efa",
          "symbol": "circle"
         },
         "mode": "markers",
         "name": "Ant colony",
         "orientation": "v",
         "showlegend": true,
         "type": "scatter",
         "x": [
          5.435287980924118,
          5.030251543474961,
          5.910378056984274,
          5.5611897246512525,
          5.645592139093219,
          4.177081574256017,
          5.276521908228776,
          3.635824902627053,
          5.011023998333201,
          3.4373454774781136,
          9.313352987045322,
          11.46671541668579,
          7.765161121485567,
          10.480875441728157,
          9.55990819325752,
          11.78914589084798,
          10.260385582417458,
          10.089168810725187,
          9.313007846115271,
          10.465438367807755,
          15.237095524675226,
          16.66432410174472,
          15.605244517468128,
          14.056975045731713,
          14.366800633125957,
          14.411277527528316,
          14.91944741386637,
          15.697270151595998,
          16.04617421975359,
          14.567232163598183,
          19.406867602588573,
          19.8952681626267,
          20.107053578213378,
          20.46004899342644,
          21.172478915895628,
          18.891062752148017,
          18.9706583282054,
          20.28775057781892,
          20.024663285200663,
          19.603743985039312,
          24.485117912393967,
          26.95903045910174,
          23.9005783340889,
          25.784715904151938,
          23.90179730193671,
          25.72278310691602,
          24.91862857416683,
          24.78446936255288,
          24.94207986465844,
          24.27163120135645,
          30.11151457639622,
          31.0019707701804,
          30.213237061842463,
          31.646681823693,
          28.53416463185409,
          30.367533075968858,
          30.746003190797666,
          29.555696772123248,
          29.44965917335125,
          29.421303991361867,
          35.28023722740421,
          32.797993401347014,
          34.97366180282198,
          34.94403923637812,
          35.03992476329187,
          34.7918494892632,
          34.329629480573566,
          35.02908507435123,
          33.55538244905164,
          35.62199206630215,
          40.3701148817605,
          40.03854101429633,
          40.268082070272634,
          40.735968657163475,
          37.97067802358016,
          39.3659345888814,
          40.335808893468,
          40.534553195421495,
          39.10423835432419,
          39.092551832579126
         ],
         "xaxis": "x",
         "y": [
          2.1018,
          2.1018,
          2.1018,
          2.1018,
          2.1018,
          2.1018,
          2.1018,
          2.1018,
          2.1018,
          2.1018,
          3.4596,
          3.4596,
          3.4722,
          3.4596,
          3.4596,
          3.4793,
          3.4793,
          3.4596,
          3.4596,
          3.4596,
          3.8636,
          3.8636,
          3.8636,
          3.8636,
          3.8636,
          3.8636,
          3.8636,
          3.8636,
          3.8636,
          3.8636,
          4.0665,
          4.0642,
          4.0665,
          4.0314,
          4.128,
          4.0292,
          4.0314,
          4.0314,
          4.0642,
          4.128,
          4.8976,
          4.8148,
          4.8704,
          4.9337,
          4.7915,
          4.9476,
          4.9192,
          5.0214,
          4.6365,
          5.0015,
          4.5731,
          4.6046,
          4.5882,
          4.5558,
          4.5763,
          4.4564,
          4.5816,
          4.6319,
          4.4459,
          4.4474,
          5.1396,
          5.1084,
          5.2226,
          5.0842,
          5.1729,
          5.2065,
          5.3027,
          5.1891,
          5.1468,
          5.3402,
          5.7766,
          5.6505,
          5.8481,
          5.9842,
          5.8682,
          5.9025,
          5.861,
          5.885,
          5.7218,
          5.8706
         ],
         "yaxis": "y"
        },
        {
         "customdata": [
          [
           "Genetic",
           8.3289
          ],
          [
           "Genetic",
           8.4424
          ],
          [
           "Genetic",
           8.4849
          ],
          [
           "Genetic",
           8.9795
          ],
          [
           "Genetic",
           8.0101
          ],
          [
           "Genetic",
           7.888
          ],
          [
           "Genetic",
           7.9791
          ],
          [
           "Genetic",
           7.9591
          ],
          [
           "Genetic",
           8.0695
          ],
          [
           "Genetic",
           8.1098
          ],
          [
           "Genetic",
           12.194
          ],
          [
           "Genetic",
           27.0149
          ],
          [
           "Genetic",
           12.267
          ],
          [
           "Genetic",
           24.486
          ],
          [
           "Genetic",
           10.5448
          ],
          [
           "Genetic",
           21.4232
          ],
          [
           "Genetic",
           16.7102
          ],
          [
           "Genetic",
           26.344
          ],
          [
           "Genetic",
           25.8649
          ],
          [
           "Genetic",
           10.6967
          ],
          [
           "Genetic",
           19.8654
          ],
          [
           "Genetic",
           25.9834
          ],
          [
           "Genetic",
           30.4596
          ],
          [
           "Genetic",
           21.0376
          ],
          [
           "Genetic",
           15.083
          ],
          [
           "Genetic",
           17.5897
          ],
          [
           "Genetic",
           18.3452
          ],
          [
           "Genetic",
           26.5765
          ],
          [
           "Genetic",
           17.9378
          ],
          [
           "Genetic",
           19.8686
          ],
          [
           "Genetic",
           30.7196
          ],
          [
           "Genetic",
           17.8283
          ],
          [
           "Genetic",
           15.0215
          ],
          [
           "Genetic",
           17.3804
          ],
          [
           "Genetic",
           35.7847
          ],
          [
           "Genetic",
           17.0087
          ],
          [
           "Genetic",
           15.6197
          ],
          [
           "Genetic",
           28.594
          ],
          [
           "Genetic",
           21.0275
          ],
          [
           "Genetic",
           19.0908
          ],
          [
           "Genetic",
           19.8119
          ],
          [
           "Genetic",
           30.3216
          ],
          [
           "Genetic",
           21.8733
          ],
          [
           "Genetic",
           22.1171
          ],
          [
           "Genetic",
           65.9803
          ],
          [
           "Genetic",
           34.6072
          ],
          [
           "Genetic",
           24.2684
          ],
          [
           "Genetic",
           25.7095
          ],
          [
           "Genetic",
           29.0719
          ],
          [
           "Genetic",
           21.0819
          ],
          [
           "Genetic",
           23.2123
          ],
          [
           "Genetic",
           30.4959
          ],
          [
           "Genetic",
           45.2405
          ],
          [
           "Genetic",
           34.0009
          ],
          [
           "Genetic",
           35.0403
          ],
          [
           "Genetic",
           35.2067
          ],
          [
           "Genetic",
           56.1764
          ],
          [
           "Genetic",
           22.7406
          ],
          [
           "Genetic",
           23.2043
          ],
          [
           "Genetic",
           43.5075
          ],
          [
           "Genetic",
           49.5901
          ],
          [
           "Genetic",
           23.7436
          ],
          [
           "Genetic",
           72.38
          ],
          [
           "Genetic",
           45.3046
          ],
          [
           "Genetic",
           64.6475
          ],
          [
           "Genetic",
           40.4657
          ],
          [
           "Genetic",
           35.7601
          ],
          [
           "Genetic",
           57.7088
          ],
          [
           "Genetic",
           80.8762
          ],
          [
           "Genetic",
           29.2004
          ],
          [
           "Genetic",
           87.2243
          ],
          [
           "Genetic",
           37.5549
          ],
          [
           "Genetic",
           49.9527
          ],
          [
           "Genetic",
           61.162
          ],
          [
           "Genetic",
           91.8072
          ],
          [
           "Genetic",
           35.0497
          ],
          [
           "Genetic",
           43.0596
          ],
          [
           "Genetic",
           56.2488
          ],
          [
           "Genetic",
           32.2705
          ],
          [
           "Genetic",
           45.19
          ]
         ],
         "hovertemplate": "Algo=%{customdata[0]}<br>Distance=%{y}<br>Run time(s)=%{customdata[1]}<extra></extra>",
         "legendgroup": "Genetic",
         "marker": {
          "color": "#EF553B",
          "symbol": "diamond"
         },
         "mode": "markers",
         "name": "Genetic",
         "orientation": "v",
         "showlegend": true,
         "type": "scatter",
         "x": [
          7.0509739119832355,
          5.405098220407876,
          5.35247057450726,
          5.245827978764602,
          5.806240816304124,
          4.7095778655381615,
          4.348284187602859,
          6.410128271296576,
          5.039852037622331,
          3.323465456149539,
          11.883046720348043,
          9.783687144793461,
          10.188341385933976,
          10.07860843087501,
          10.675609338486586,
          10.336789150673303,
          8.562795385696955,
          10.016937168820569,
          9.144223620792635,
          10.163370392308051,
          14.678936711403704,
          16.303392535095853,
          15.30325814450449,
          14.341135095055314,
          15.922525990134531,
          15.041150631310773,
          14.41242641331934,
          15.375288187598281,
          15.26180529441026,
          16.17710332645035,
          20.292765018091163,
          19.42170284671597,
          19.827325068478256,
          19.97231332575712,
          20.01410237421493,
          19.791837872304225,
          19.852387818895195,
          19.83741824120412,
          20.694114336655353,
          20.575869425874718,
          24.355200317433038,
          25.688748255338048,
          25.078839953973638,
          24.546749878559783,
          25.25965217057167,
          24.402193836092593,
          24.4322391958075,
          25.33259052648902,
          25.421040740252227,
          26.15026683089498,
          30.542518258589812,
          30.09740810644633,
          30.130060970837288,
          29.672832634391135,
          31.559720652724987,
          30.52603014461285,
          29.960459354393567,
          30.858280700625492,
          29.64853551366785,
          29.833376044176646,
          35.67723102802555,
          35.37321914952012,
          35.29578677691084,
          33.80292810613991,
          34.5963238704124,
          34.57120370775806,
          35.6341756767511,
          36.11271635292938,
          35.145395686269744,
          34.51202436807308,
          41.31243148899265,
          39.20458418529368,
          39.02316796720447,
          40.36101112836886,
          41.208574777522976,
          40.72006889631126,
          40.62233885333069,
          41.19184937682142,
          38.808766319520416,
          40.21430641116692
         ],
         "xaxis": "x",
         "y": [
          2.1018,
          2.1018,
          2.1018,
          2.1018,
          2.1018,
          2.1018,
          2.1018,
          2.1018,
          2.1018,
          2.1018,
          3.4793,
          3.4793,
          3.5142,
          3.5235,
          3.7209,
          3.5113,
          3.5194,
          3.4793,
          3.4596,
          3.5172,
          5.1363,
          5.126,
          5.1075,
          5.1639,
          5.2406,
          5.0441,
          5.1115,
          5.1855,
          5.4728,
          5.2483,
          6.7261,
          6.7965,
          6.8918,
          6.9622,
          6.9321,
          6.8045,
          6.2726,
          6.836,
          6.6235,
          6.7731,
          8.6631,
          8.6688,
          8.3827,
          8.8152,
          8.4179,
          8.2981,
          8.6667,
          7.9523,
          8.2962,
          8.5331,
          10.2745,
          10.2762,
          10.1012,
          10.1318,
          10.5768,
          10.6136,
          10.1028,
          10.4411,
          10.3158,
          10.3458,
          11.8608,
          11.2017,
          11.6721,
          12.5147,
          12.0064,
          12.6209,
          11.9033,
          11.6934,
          12.2121,
          12.6153,
          14.206,
          13.7155,
          13.7819,
          14.1621,
          13.8408,
          14.1417,
          14.1808,
          14.5565,
          14.6179,
          13.9315
         ],
         "yaxis": "y"
        },
        {
         "customdata": [
          [
           "Greedy",
           0
          ],
          [
           "Greedy",
           0
          ],
          [
           "Greedy",
           0
          ],
          [
           "Greedy",
           0
          ],
          [
           "Greedy",
           0
          ],
          [
           "Greedy",
           0
          ],
          [
           "Greedy",
           0
          ],
          [
           "Greedy",
           0
          ],
          [
           "Greedy",
           0.0001
          ],
          [
           "Greedy",
           0
          ],
          [
           "Greedy",
           0.0001
          ],
          [
           "Greedy",
           0.0001
          ],
          [
           "Greedy",
           0.0001
          ],
          [
           "Greedy",
           0.0001
          ],
          [
           "Greedy",
           0.0001
          ],
          [
           "Greedy",
           0.0001
          ],
          [
           "Greedy",
           0.0001
          ],
          [
           "Greedy",
           0.0001
          ],
          [
           "Greedy",
           0.0001
          ],
          [
           "Greedy",
           0.0001
          ],
          [
           "Greedy",
           0.0002
          ],
          [
           "Greedy",
           0.0002
          ],
          [
           "Greedy",
           0.0002
          ],
          [
           "Greedy",
           0.0002
          ],
          [
           "Greedy",
           0.0002
          ],
          [
           "Greedy",
           0.0002
          ],
          [
           "Greedy",
           0.0002
          ],
          [
           "Greedy",
           0.0002
          ],
          [
           "Greedy",
           0.0002
          ],
          [
           "Greedy",
           0.0002
          ],
          [
           "Greedy",
           0.0003
          ],
          [
           "Greedy",
           0.0003
          ],
          [
           "Greedy",
           0.0003
          ],
          [
           "Greedy",
           0.0003
          ],
          [
           "Greedy",
           0.0003
          ],
          [
           "Greedy",
           0.0003
          ],
          [
           "Greedy",
           0.0003
          ],
          [
           "Greedy",
           0.0003
          ],
          [
           "Greedy",
           0.0003
          ],
          [
           "Greedy",
           0.0003
          ],
          [
           "Greedy",
           0.0004
          ],
          [
           "Greedy",
           0.0004
          ],
          [
           "Greedy",
           0.0004
          ],
          [
           "Greedy",
           0.0005
          ],
          [
           "Greedy",
           0.0004
          ],
          [
           "Greedy",
           0.0004
          ],
          [
           "Greedy",
           0.0004
          ],
          [
           "Greedy",
           0.0004
          ],
          [
           "Greedy",
           0.0004
          ],
          [
           "Greedy",
           0.0004
          ],
          [
           "Greedy",
           0.0006
          ],
          [
           "Greedy",
           0.0006
          ],
          [
           "Greedy",
           0.0006
          ],
          [
           "Greedy",
           0.0006
          ],
          [
           "Greedy",
           0.0007
          ],
          [
           "Greedy",
           0.0006
          ],
          [
           "Greedy",
           0.0007
          ],
          [
           "Greedy",
           0.0006
          ],
          [
           "Greedy",
           0.0006
          ],
          [
           "Greedy",
           0.0013
          ],
          [
           "Greedy",
           0.0008
          ],
          [
           "Greedy",
           0.0008
          ],
          [
           "Greedy",
           0.0008
          ],
          [
           "Greedy",
           0.0008
          ],
          [
           "Greedy",
           0.0009
          ],
          [
           "Greedy",
           0.0009
          ],
          [
           "Greedy",
           0.001
          ],
          [
           "Greedy",
           0.0009
          ],
          [
           "Greedy",
           0.001
          ],
          [
           "Greedy",
           0.0013
          ],
          [
           "Greedy",
           0.0012
          ],
          [
           "Greedy",
           0.0016
          ],
          [
           "Greedy",
           0.0013
          ],
          [
           "Greedy",
           0.0012
          ],
          [
           "Greedy",
           0.0011
          ],
          [
           "Greedy",
           0.0012
          ],
          [
           "Greedy",
           0.0012
          ],
          [
           "Greedy",
           0.0017
          ],
          [
           "Greedy",
           0.0013
          ],
          [
           "Greedy",
           0.0012
          ]
         ],
         "hovertemplate": "Algo=%{customdata[0]}<br>Distance=%{y}<br>Run time(s)=%{customdata[1]}<extra></extra>",
         "legendgroup": "Greedy",
         "marker": {
          "color": "#00cc96",
          "symbol": "square"
         },
         "mode": "markers",
         "name": "Greedy",
         "orientation": "v",
         "showlegend": true,
         "type": "scatter",
         "x": [
          6.326219637245005,
          4.588872348293421,
          3.850840294459114,
          4.970681738670675,
          3.9219766584989033,
          5.060788826959603,
          3.3194599775751565,
          5.2974890562900905,
          3.8823473760287834,
          5.370324557637206,
          8.785356517796767,
          11.416629546495813,
          9.633754100846673,
          10.918038714416609,
          11.90230199606269,
          10.78378743284691,
          10.366161788228887,
          10.67462447676209,
          8.687483155330085,
          8.6075552461771,
          15.733866436709274,
          14.217893832520469,
          14.684167474452488,
          14.615432626965276,
          14.804357373725495,
          16.074258652323763,
          15.0342666174055,
          15.418372805844333,
          14.247906885138933,
          16.070848438123072,
          18.378086869307538,
          20.330289604825428,
          18.91962884731026,
          19.09381859407921,
          19.497971836426355,
          20.655948467377023,
          18.641129546206095,
          20.369150414521922,
          21.179042304694192,
          19.755739190737366,
          23.694212511903913,
          25.66635255630008,
          26.231206341166345,
          26.44128877588889,
          25.929520440769437,
          25.71518351817881,
          24.999986672380434,
          25.77753185077575,
          25.351931347834135,
          25.157417481994322,
          30.606159113736446,
          29.66255820782097,
          29.40768174595558,
          29.684839764118223,
          30.68670319623696,
          29.210246737921313,
          29.78140446138018,
          29.56494396486596,
          29.769024861340913,
          30.61392612473871,
          34.30490232473957,
          34.51313185106594,
          35.39911694041293,
          34.73230648269994,
          36.22687087912177,
          34.45347764657028,
          34.73211407537086,
          35.12219909738694,
          35.90647168753894,
          34.52645089900249,
          39.8211842541443,
          40.63757440707806,
          40.01845610040173,
          40.70118016944438,
          39.03088179995096,
          39.91764596053282,
          40.25733425359032,
          40.21357385645198,
          38.911194033975,
          39.91907796901961
         ],
         "xaxis": "x",
         "y": [
          1.7232,
          1.7232,
          1.7232,
          1.7232,
          1.7232,
          1.7232,
          1.7232,
          1.7232,
          1.7232,
          1.7232,
          3.7087,
          3.7087,
          3.7087,
          3.7087,
          3.7087,
          3.7087,
          3.7087,
          3.7087,
          3.7087,
          3.7087,
          3.9139,
          3.9139,
          3.9139,
          3.9139,
          3.9139,
          3.9139,
          3.9139,
          3.9139,
          3.9139,
          3.9139,
          4.107,
          4.107,
          4.107,
          4.107,
          4.107,
          4.107,
          4.107,
          4.107,
          4.107,
          4.107,
          4.5338,
          4.5338,
          4.5338,
          4.5338,
          4.5338,
          4.5338,
          4.5338,
          4.5338,
          4.5338,
          4.5338,
          4.4321,
          4.4321,
          4.4321,
          4.4321,
          4.4321,
          4.4321,
          4.4321,
          4.4321,
          4.4321,
          4.4321,
          5.5547,
          5.5547,
          5.5547,
          5.5547,
          5.5547,
          5.5547,
          5.5547,
          5.5547,
          5.5547,
          5.5547,
          5.9937,
          5.9937,
          5.9937,
          5.9937,
          5.9937,
          5.9937,
          5.9937,
          5.9937,
          5.9937,
          5.9937
         ],
         "yaxis": "y"
        }
       ],
       "layout": {
        "height": 600,
        "legend": {
         "title": {
          "text": "Algo"
         },
         "tracegroupgap": 0
        },
        "template": {
         "data": {
          "bar": [
           {
            "error_x": {
             "color": "#2a3f5f"
            },
            "error_y": {
             "color": "#2a3f5f"
            },
            "marker": {
             "line": {
              "color": "#E5ECF6",
              "width": 0.5
             },
             "pattern": {
              "fillmode": "overlay",
              "size": 10,
              "solidity": 0.2
             }
            },
            "type": "bar"
           }
          ],
          "barpolar": [
           {
            "marker": {
             "line": {
              "color": "#E5ECF6",
              "width": 0.5
             },
             "pattern": {
              "fillmode": "overlay",
              "size": 10,
              "solidity": 0.2
             }
            },
            "type": "barpolar"
           }
          ],
          "carpet": [
           {
            "aaxis": {
             "endlinecolor": "#2a3f5f",
             "gridcolor": "white",
             "linecolor": "white",
             "minorgridcolor": "white",
             "startlinecolor": "#2a3f5f"
            },
            "baxis": {
             "endlinecolor": "#2a3f5f",
             "gridcolor": "white",
             "linecolor": "white",
             "minorgridcolor": "white",
             "startlinecolor": "#2a3f5f"
            },
            "type": "carpet"
           }
          ],
          "choropleth": [
           {
            "colorbar": {
             "outlinewidth": 0,
             "ticks": ""
            },
            "type": "choropleth"
           }
          ],
          "contour": [
           {
            "colorbar": {
             "outlinewidth": 0,
             "ticks": ""
            },
            "colorscale": [
             [
              0,
              "#0d0887"
             ],
             [
              0.1111111111111111,
              "#46039f"
             ],
             [
              0.2222222222222222,
              "#7201a8"
             ],
             [
              0.3333333333333333,
              "#9c179e"
             ],
             [
              0.4444444444444444,
              "#bd3786"
             ],
             [
              0.5555555555555556,
              "#d8576b"
             ],
             [
              0.6666666666666666,
              "#ed7953"
             ],
             [
              0.7777777777777778,
              "#fb9f3a"
             ],
             [
              0.8888888888888888,
              "#fdca26"
             ],
             [
              1,
              "#f0f921"
             ]
            ],
            "type": "contour"
           }
          ],
          "contourcarpet": [
           {
            "colorbar": {
             "outlinewidth": 0,
             "ticks": ""
            },
            "type": "contourcarpet"
           }
          ],
          "heatmap": [
           {
            "colorbar": {
             "outlinewidth": 0,
             "ticks": ""
            },
            "colorscale": [
             [
              0,
              "#0d0887"
             ],
             [
              0.1111111111111111,
              "#46039f"
             ],
             [
              0.2222222222222222,
              "#7201a8"
             ],
             [
              0.3333333333333333,
              "#9c179e"
             ],
             [
              0.4444444444444444,
              "#bd3786"
             ],
             [
              0.5555555555555556,
              "#d8576b"
             ],
             [
              0.6666666666666666,
              "#ed7953"
             ],
             [
              0.7777777777777778,
              "#fb9f3a"
             ],
             [
              0.8888888888888888,
              "#fdca26"
             ],
             [
              1,
              "#f0f921"
             ]
            ],
            "type": "heatmap"
           }
          ],
          "heatmapgl": [
           {
            "colorbar": {
             "outlinewidth": 0,
             "ticks": ""
            },
            "colorscale": [
             [
              0,
              "#0d0887"
             ],
             [
              0.1111111111111111,
              "#46039f"
             ],
             [
              0.2222222222222222,
              "#7201a8"
             ],
             [
              0.3333333333333333,
              "#9c179e"
             ],
             [
              0.4444444444444444,
              "#bd3786"
             ],
             [
              0.5555555555555556,
              "#d8576b"
             ],
             [
              0.6666666666666666,
              "#ed7953"
             ],
             [
              0.7777777777777778,
              "#fb9f3a"
             ],
             [
              0.8888888888888888,
              "#fdca26"
             ],
             [
              1,
              "#f0f921"
             ]
            ],
            "type": "heatmapgl"
           }
          ],
          "histogram": [
           {
            "marker": {
             "pattern": {
              "fillmode": "overlay",
              "size": 10,
              "solidity": 0.2
             }
            },
            "type": "histogram"
           }
          ],
          "histogram2d": [
           {
            "colorbar": {
             "outlinewidth": 0,
             "ticks": ""
            },
            "colorscale": [
             [
              0,
              "#0d0887"
             ],
             [
              0.1111111111111111,
              "#46039f"
             ],
             [
              0.2222222222222222,
              "#7201a8"
             ],
             [
              0.3333333333333333,
              "#9c179e"
             ],
             [
              0.4444444444444444,
              "#bd3786"
             ],
             [
              0.5555555555555556,
              "#d8576b"
             ],
             [
              0.6666666666666666,
              "#ed7953"
             ],
             [
              0.7777777777777778,
              "#fb9f3a"
             ],
             [
              0.8888888888888888,
              "#fdca26"
             ],
             [
              1,
              "#f0f921"
             ]
            ],
            "type": "histogram2d"
           }
          ],
          "histogram2dcontour": [
           {
            "colorbar": {
             "outlinewidth": 0,
             "ticks": ""
            },
            "colorscale": [
             [
              0,
              "#0d0887"
             ],
             [
              0.1111111111111111,
              "#46039f"
             ],
             [
              0.2222222222222222,
              "#7201a8"
             ],
             [
              0.3333333333333333,
              "#9c179e"
             ],
             [
              0.4444444444444444,
              "#bd3786"
             ],
             [
              0.5555555555555556,
              "#d8576b"
             ],
             [
              0.6666666666666666,
              "#ed7953"
             ],
             [
              0.7777777777777778,
              "#fb9f3a"
             ],
             [
              0.8888888888888888,
              "#fdca26"
             ],
             [
              1,
              "#f0f921"
             ]
            ],
            "type": "histogram2dcontour"
           }
          ],
          "mesh3d": [
           {
            "colorbar": {
             "outlinewidth": 0,
             "ticks": ""
            },
            "type": "mesh3d"
           }
          ],
          "parcoords": [
           {
            "line": {
             "colorbar": {
              "outlinewidth": 0,
              "ticks": ""
             }
            },
            "type": "parcoords"
           }
          ],
          "pie": [
           {
            "automargin": true,
            "type": "pie"
           }
          ],
          "scatter": [
           {
            "marker": {
             "colorbar": {
              "outlinewidth": 0,
              "ticks": ""
             }
            },
            "type": "scatter"
           }
          ],
          "scatter3d": [
           {
            "line": {
             "colorbar": {
              "outlinewidth": 0,
              "ticks": ""
             }
            },
            "marker": {
             "colorbar": {
              "outlinewidth": 0,
              "ticks": ""
             }
            },
            "type": "scatter3d"
           }
          ],
          "scattercarpet": [
           {
            "marker": {
             "colorbar": {
              "outlinewidth": 0,
              "ticks": ""
             }
            },
            "type": "scattercarpet"
           }
          ],
          "scattergeo": [
           {
            "marker": {
             "colorbar": {
              "outlinewidth": 0,
              "ticks": ""
             }
            },
            "type": "scattergeo"
           }
          ],
          "scattergl": [
           {
            "marker": {
             "colorbar": {
              "outlinewidth": 0,
              "ticks": ""
             }
            },
            "type": "scattergl"
           }
          ],
          "scattermapbox": [
           {
            "marker": {
             "colorbar": {
              "outlinewidth": 0,
              "ticks": ""
             }
            },
            "type": "scattermapbox"
           }
          ],
          "scatterpolar": [
           {
            "marker": {
             "colorbar": {
              "outlinewidth": 0,
              "ticks": ""
             }
            },
            "type": "scatterpolar"
           }
          ],
          "scatterpolargl": [
           {
            "marker": {
             "colorbar": {
              "outlinewidth": 0,
              "ticks": ""
             }
            },
            "type": "scatterpolargl"
           }
          ],
          "scatterternary": [
           {
            "marker": {
             "colorbar": {
              "outlinewidth": 0,
              "ticks": ""
             }
            },
            "type": "scatterternary"
           }
          ],
          "surface": [
           {
            "colorbar": {
             "outlinewidth": 0,
             "ticks": ""
            },
            "colorscale": [
             [
              0,
              "#0d0887"
             ],
             [
              0.1111111111111111,
              "#46039f"
             ],
             [
              0.2222222222222222,
              "#7201a8"
             ],
             [
              0.3333333333333333,
              "#9c179e"
             ],
             [
              0.4444444444444444,
              "#bd3786"
             ],
             [
              0.5555555555555556,
              "#d8576b"
             ],
             [
              0.6666666666666666,
              "#ed7953"
             ],
             [
              0.7777777777777778,
              "#fb9f3a"
             ],
             [
              0.8888888888888888,
              "#fdca26"
             ],
             [
              1,
              "#f0f921"
             ]
            ],
            "type": "surface"
           }
          ],
          "table": [
           {
            "cells": {
             "fill": {
              "color": "#EBF0F8"
             },
             "line": {
              "color": "white"
             }
            },
            "header": {
             "fill": {
              "color": "#C8D4E3"
             },
             "line": {
              "color": "white"
             }
            },
            "type": "table"
           }
          ]
         },
         "layout": {
          "annotationdefaults": {
           "arrowcolor": "#2a3f5f",
           "arrowhead": 0,
           "arrowwidth": 1
          },
          "autotypenumbers": "strict",
          "coloraxis": {
           "colorbar": {
            "outlinewidth": 0,
            "ticks": ""
           }
          },
          "colorscale": {
           "diverging": [
            [
             0,
             "#8e0152"
            ],
            [
             0.1,
             "#c51b7d"
            ],
            [
             0.2,
             "#de77ae"
            ],
            [
             0.3,
             "#f1b6da"
            ],
            [
             0.4,
             "#fde0ef"
            ],
            [
             0.5,
             "#f7f7f7"
            ],
            [
             0.6,
             "#e6f5d0"
            ],
            [
             0.7,
             "#b8e186"
            ],
            [
             0.8,
             "#7fbc41"
            ],
            [
             0.9,
             "#4d9221"
            ],
            [
             1,
             "#276419"
            ]
           ],
           "sequential": [
            [
             0,
             "#0d0887"
            ],
            [
             0.1111111111111111,
             "#46039f"
            ],
            [
             0.2222222222222222,
             "#7201a8"
            ],
            [
             0.3333333333333333,
             "#9c179e"
            ],
            [
             0.4444444444444444,
             "#bd3786"
            ],
            [
             0.5555555555555556,
             "#d8576b"
            ],
            [
             0.6666666666666666,
             "#ed7953"
            ],
            [
             0.7777777777777778,
             "#fb9f3a"
            ],
            [
             0.8888888888888888,
             "#fdca26"
            ],
            [
             1,
             "#f0f921"
            ]
           ],
           "sequentialminus": [
            [
             0,
             "#0d0887"
            ],
            [
             0.1111111111111111,
             "#46039f"
            ],
            [
             0.2222222222222222,
             "#7201a8"
            ],
            [
             0.3333333333333333,
             "#9c179e"
            ],
            [
             0.4444444444444444,
             "#bd3786"
            ],
            [
             0.5555555555555556,
             "#d8576b"
            ],
            [
             0.6666666666666666,
             "#ed7953"
            ],
            [
             0.7777777777777778,
             "#fb9f3a"
            ],
            [
             0.8888888888888888,
             "#fdca26"
            ],
            [
             1,
             "#f0f921"
            ]
           ]
          },
          "colorway": [
           "#636efa",
           "#EF553B",
           "#00cc96",
           "#ab63fa",
           "#FFA15A",
           "#19d3f3",
           "#FF6692",
           "#B6E880",
           "#FF97FF",
           "#FECB52"
          ],
          "font": {
           "color": "#2a3f5f"
          },
          "geo": {
           "bgcolor": "white",
           "lakecolor": "white",
           "landcolor": "#E5ECF6",
           "showlakes": true,
           "showland": true,
           "subunitcolor": "white"
          },
          "hoverlabel": {
           "align": "left"
          },
          "hovermode": "closest",
          "mapbox": {
           "style": "light"
          },
          "paper_bgcolor": "white",
          "plot_bgcolor": "#E5ECF6",
          "polar": {
           "angularaxis": {
            "gridcolor": "white",
            "linecolor": "white",
            "ticks": ""
           },
           "bgcolor": "#E5ECF6",
           "radialaxis": {
            "gridcolor": "white",
            "linecolor": "white",
            "ticks": ""
           }
          },
          "scene": {
           "xaxis": {
            "backgroundcolor": "#E5ECF6",
            "gridcolor": "white",
            "gridwidth": 2,
            "linecolor": "white",
            "showbackground": true,
            "ticks": "",
            "zerolinecolor": "white"
           },
           "yaxis": {
            "backgroundcolor": "#E5ECF6",
            "gridcolor": "white",
            "gridwidth": 2,
            "linecolor": "white",
            "showbackground": true,
            "ticks": "",
            "zerolinecolor": "white"
           },
           "zaxis": {
            "backgroundcolor": "#E5ECF6",
            "gridcolor": "white",
            "gridwidth": 2,
            "linecolor": "white",
            "showbackground": true,
            "ticks": "",
            "zerolinecolor": "white"
           }
          },
          "shapedefaults": {
           "line": {
            "color": "#2a3f5f"
           }
          },
          "ternary": {
           "aaxis": {
            "gridcolor": "white",
            "linecolor": "white",
            "ticks": ""
           },
           "baxis": {
            "gridcolor": "white",
            "linecolor": "white",
            "ticks": ""
           },
           "bgcolor": "#E5ECF6",
           "caxis": {
            "gridcolor": "white",
            "linecolor": "white",
            "ticks": ""
           }
          },
          "title": {
           "x": 0.05
          },
          "xaxis": {
           "automargin": true,
           "gridcolor": "white",
           "linecolor": "white",
           "ticks": "",
           "title": {
            "standoff": 15
           },
           "zerolinecolor": "white",
           "zerolinewidth": 2
          },
          "yaxis": {
           "automargin": true,
           "gridcolor": "white",
           "linecolor": "white",
           "ticks": "",
           "title": {
            "standoff": 15
           },
           "zerolinecolor": "white",
           "zerolinewidth": 2
          }
         }
        },
        "title": {
         "text": "Ant colony vs Genetic vs Greedy DISTANCE"
        },
        "xaxis": {
         "anchor": "y",
         "domain": [
          0,
          1
         ],
         "title": {
          "text": "N points"
         }
        },
        "yaxis": {
         "anchor": "x",
         "domain": [
          0,
          1
         ],
         "title": {
          "text": "Distance"
         }
        }
       }
      }
     },
     "metadata": {},
     "output_type": "display_data"
    }
   ],
   "source": [
    "fig = px.scatter(df_res_scatter_noise, x=\"N points\", y=\"Distance\", color=\"Algo\", symbol=\"Algo\",\n",
    "                hover_data={'Distance':True,\"Algo\":True,\"Run time(s)\":True,\"N points\":False},height=600, title=\"Ant colony vs Genetic vs Greedy DISTANCE\")\n",
    "#fig.update_traces(marker_size=7)\n",
    "fig.write_html('Antcolony_vs_Genetic_vs_Greedy_DISTANCE.html')\n",
    "fig.show()"
   ]
  },
  {
   "cell_type": "code",
   "execution_count": 192,
   "metadata": {},
   "outputs": [
    {
     "data": {
      "application/vnd.plotly.v1+json": {
       "config": {
        "plotlyServerURL": "https://plot.ly"
       },
       "data": [
        {
         "customdata": [
          [
           2.1018,
           "Ant colony"
          ],
          [
           2.1018,
           "Ant colony"
          ],
          [
           2.1018,
           "Ant colony"
          ],
          [
           2.1018,
           "Ant colony"
          ],
          [
           2.1018,
           "Ant colony"
          ],
          [
           2.1018,
           "Ant colony"
          ],
          [
           2.1018,
           "Ant colony"
          ],
          [
           2.1018,
           "Ant colony"
          ],
          [
           2.1018,
           "Ant colony"
          ],
          [
           2.1018,
           "Ant colony"
          ],
          [
           3.4596,
           "Ant colony"
          ],
          [
           3.4596,
           "Ant colony"
          ],
          [
           3.4722,
           "Ant colony"
          ],
          [
           3.4596,
           "Ant colony"
          ],
          [
           3.4596,
           "Ant colony"
          ],
          [
           3.4793,
           "Ant colony"
          ],
          [
           3.4793,
           "Ant colony"
          ],
          [
           3.4596,
           "Ant colony"
          ],
          [
           3.4596,
           "Ant colony"
          ],
          [
           3.4596,
           "Ant colony"
          ],
          [
           3.8636,
           "Ant colony"
          ],
          [
           3.8636,
           "Ant colony"
          ],
          [
           3.8636,
           "Ant colony"
          ],
          [
           3.8636,
           "Ant colony"
          ],
          [
           3.8636,
           "Ant colony"
          ],
          [
           3.8636,
           "Ant colony"
          ],
          [
           3.8636,
           "Ant colony"
          ],
          [
           3.8636,
           "Ant colony"
          ],
          [
           3.8636,
           "Ant colony"
          ],
          [
           3.8636,
           "Ant colony"
          ],
          [
           4.0665,
           "Ant colony"
          ],
          [
           4.0642,
           "Ant colony"
          ],
          [
           4.0665,
           "Ant colony"
          ],
          [
           4.0314,
           "Ant colony"
          ],
          [
           4.128,
           "Ant colony"
          ],
          [
           4.0292,
           "Ant colony"
          ],
          [
           4.0314,
           "Ant colony"
          ],
          [
           4.0314,
           "Ant colony"
          ],
          [
           4.0642,
           "Ant colony"
          ],
          [
           4.128,
           "Ant colony"
          ],
          [
           4.8976,
           "Ant colony"
          ],
          [
           4.8148,
           "Ant colony"
          ],
          [
           4.8704,
           "Ant colony"
          ],
          [
           4.9337,
           "Ant colony"
          ],
          [
           4.7915,
           "Ant colony"
          ],
          [
           4.9476,
           "Ant colony"
          ],
          [
           4.9192,
           "Ant colony"
          ],
          [
           5.0214,
           "Ant colony"
          ],
          [
           4.6365,
           "Ant colony"
          ],
          [
           5.0015,
           "Ant colony"
          ],
          [
           4.5731,
           "Ant colony"
          ],
          [
           4.6046,
           "Ant colony"
          ],
          [
           4.5882,
           "Ant colony"
          ],
          [
           4.5558,
           "Ant colony"
          ],
          [
           4.5763,
           "Ant colony"
          ],
          [
           4.4564,
           "Ant colony"
          ],
          [
           4.5816,
           "Ant colony"
          ],
          [
           4.6319,
           "Ant colony"
          ],
          [
           4.4459,
           "Ant colony"
          ],
          [
           4.4474,
           "Ant colony"
          ],
          [
           5.1396,
           "Ant colony"
          ],
          [
           5.1084,
           "Ant colony"
          ],
          [
           5.2226,
           "Ant colony"
          ],
          [
           5.0842,
           "Ant colony"
          ],
          [
           5.1729,
           "Ant colony"
          ],
          [
           5.2065,
           "Ant colony"
          ],
          [
           5.3027,
           "Ant colony"
          ],
          [
           5.1891,
           "Ant colony"
          ],
          [
           5.1468,
           "Ant colony"
          ],
          [
           5.3402,
           "Ant colony"
          ],
          [
           5.7766,
           "Ant colony"
          ],
          [
           5.6505,
           "Ant colony"
          ],
          [
           5.8481,
           "Ant colony"
          ],
          [
           5.9842,
           "Ant colony"
          ],
          [
           5.8682,
           "Ant colony"
          ],
          [
           5.9025,
           "Ant colony"
          ],
          [
           5.861,
           "Ant colony"
          ],
          [
           5.885,
           "Ant colony"
          ],
          [
           5.7218,
           "Ant colony"
          ],
          [
           5.8706,
           "Ant colony"
          ]
         ],
         "hovertemplate": "Algo=%{customdata[1]}<br>Run time(s)=%{y}<br>Distance=%{customdata[0]}<extra></extra>",
         "legendgroup": "Ant colony",
         "marker": {
          "color": "#636efa",
          "symbol": "circle"
         },
         "mode": "markers",
         "name": "Ant colony",
         "orientation": "v",
         "showlegend": true,
         "type": "scatter",
         "x": [
          5.435287980924118,
          5.030251543474961,
          5.910378056984274,
          5.5611897246512525,
          5.645592139093219,
          4.177081574256017,
          5.276521908228776,
          3.635824902627053,
          5.011023998333201,
          3.4373454774781136,
          9.313352987045322,
          11.46671541668579,
          7.765161121485567,
          10.480875441728157,
          9.55990819325752,
          11.78914589084798,
          10.260385582417458,
          10.089168810725187,
          9.313007846115271,
          10.465438367807755,
          15.237095524675226,
          16.66432410174472,
          15.605244517468128,
          14.056975045731713,
          14.366800633125957,
          14.411277527528316,
          14.91944741386637,
          15.697270151595998,
          16.04617421975359,
          14.567232163598183,
          19.406867602588573,
          19.8952681626267,
          20.107053578213378,
          20.46004899342644,
          21.172478915895628,
          18.891062752148017,
          18.9706583282054,
          20.28775057781892,
          20.024663285200663,
          19.603743985039312,
          24.485117912393967,
          26.95903045910174,
          23.9005783340889,
          25.784715904151938,
          23.90179730193671,
          25.72278310691602,
          24.91862857416683,
          24.78446936255288,
          24.94207986465844,
          24.27163120135645,
          30.11151457639622,
          31.0019707701804,
          30.213237061842463,
          31.646681823693,
          28.53416463185409,
          30.367533075968858,
          30.746003190797666,
          29.555696772123248,
          29.44965917335125,
          29.421303991361867,
          35.28023722740421,
          32.797993401347014,
          34.97366180282198,
          34.94403923637812,
          35.03992476329187,
          34.7918494892632,
          34.329629480573566,
          35.02908507435123,
          33.55538244905164,
          35.62199206630215,
          40.3701148817605,
          40.03854101429633,
          40.268082070272634,
          40.735968657163475,
          37.97067802358016,
          39.3659345888814,
          40.335808893468,
          40.534553195421495,
          39.10423835432419,
          39.092551832579126
         ],
         "xaxis": "x",
         "y": [
          0.1853,
          0.1696,
          0.168,
          0.1989,
          0.1697,
          0.1647,
          0.1667,
          0.1658,
          0.1664,
          0.1714,
          0.3748,
          0.3753,
          0.3763,
          0.3786,
          0.3818,
          0.3758,
          0.3743,
          0.378,
          0.377,
          0.3912,
          0.6038,
          0.5923,
          0.5915,
          0.5909,
          0.5736,
          0.6003,
          0.5888,
          0.5842,
          0.586,
          0.5814,
          0.8065,
          0.8071,
          0.8069,
          0.8132,
          0.8084,
          0.817,
          0.8134,
          0.8146,
          0.8141,
          0.8263,
          1.1165,
          1.0224,
          1.021,
          1.076,
          1.0613,
          1.2237,
          1.1315,
          1.0755,
          1.0205,
          1.067,
          1.2685,
          1.2744,
          1.2466,
          1.2574,
          1.2728,
          1.5272,
          1.3559,
          1.3264,
          1.3701,
          1.3175,
          2.4877,
          1.5477,
          1.5346,
          1.5087,
          1.6643,
          2.0499,
          1.8853,
          1.96,
          1.9718,
          1.9635,
          2.2278,
          2.3773,
          2.3216,
          2.3461,
          2.2058,
          2.2695,
          2.2534,
          3.6598,
          2.2997,
          2.353
         ],
         "yaxis": "y"
        },
        {
         "customdata": [
          [
           2.1018,
           "Genetic"
          ],
          [
           2.1018,
           "Genetic"
          ],
          [
           2.1018,
           "Genetic"
          ],
          [
           2.1018,
           "Genetic"
          ],
          [
           2.1018,
           "Genetic"
          ],
          [
           2.1018,
           "Genetic"
          ],
          [
           2.1018,
           "Genetic"
          ],
          [
           2.1018,
           "Genetic"
          ],
          [
           2.1018,
           "Genetic"
          ],
          [
           2.1018,
           "Genetic"
          ],
          [
           3.4793,
           "Genetic"
          ],
          [
           3.4793,
           "Genetic"
          ],
          [
           3.5142,
           "Genetic"
          ],
          [
           3.5235,
           "Genetic"
          ],
          [
           3.7209,
           "Genetic"
          ],
          [
           3.5113,
           "Genetic"
          ],
          [
           3.5194,
           "Genetic"
          ],
          [
           3.4793,
           "Genetic"
          ],
          [
           3.4596,
           "Genetic"
          ],
          [
           3.5172,
           "Genetic"
          ],
          [
           5.1363,
           "Genetic"
          ],
          [
           5.126,
           "Genetic"
          ],
          [
           5.1075,
           "Genetic"
          ],
          [
           5.1639,
           "Genetic"
          ],
          [
           5.2406,
           "Genetic"
          ],
          [
           5.0441,
           "Genetic"
          ],
          [
           5.1115,
           "Genetic"
          ],
          [
           5.1855,
           "Genetic"
          ],
          [
           5.4728,
           "Genetic"
          ],
          [
           5.2483,
           "Genetic"
          ],
          [
           6.7261,
           "Genetic"
          ],
          [
           6.7965,
           "Genetic"
          ],
          [
           6.8918,
           "Genetic"
          ],
          [
           6.9622,
           "Genetic"
          ],
          [
           6.9321,
           "Genetic"
          ],
          [
           6.8045,
           "Genetic"
          ],
          [
           6.2726,
           "Genetic"
          ],
          [
           6.836,
           "Genetic"
          ],
          [
           6.6235,
           "Genetic"
          ],
          [
           6.7731,
           "Genetic"
          ],
          [
           8.6631,
           "Genetic"
          ],
          [
           8.6688,
           "Genetic"
          ],
          [
           8.3827,
           "Genetic"
          ],
          [
           8.8152,
           "Genetic"
          ],
          [
           8.4179,
           "Genetic"
          ],
          [
           8.2981,
           "Genetic"
          ],
          [
           8.6667,
           "Genetic"
          ],
          [
           7.9523,
           "Genetic"
          ],
          [
           8.2962,
           "Genetic"
          ],
          [
           8.5331,
           "Genetic"
          ],
          [
           10.2745,
           "Genetic"
          ],
          [
           10.2762,
           "Genetic"
          ],
          [
           10.1012,
           "Genetic"
          ],
          [
           10.1318,
           "Genetic"
          ],
          [
           10.5768,
           "Genetic"
          ],
          [
           10.6136,
           "Genetic"
          ],
          [
           10.1028,
           "Genetic"
          ],
          [
           10.4411,
           "Genetic"
          ],
          [
           10.3158,
           "Genetic"
          ],
          [
           10.3458,
           "Genetic"
          ],
          [
           11.8608,
           "Genetic"
          ],
          [
           11.2017,
           "Genetic"
          ],
          [
           11.6721,
           "Genetic"
          ],
          [
           12.5147,
           "Genetic"
          ],
          [
           12.0064,
           "Genetic"
          ],
          [
           12.6209,
           "Genetic"
          ],
          [
           11.9033,
           "Genetic"
          ],
          [
           11.6934,
           "Genetic"
          ],
          [
           12.2121,
           "Genetic"
          ],
          [
           12.6153,
           "Genetic"
          ],
          [
           14.206,
           "Genetic"
          ],
          [
           13.7155,
           "Genetic"
          ],
          [
           13.7819,
           "Genetic"
          ],
          [
           14.1621,
           "Genetic"
          ],
          [
           13.8408,
           "Genetic"
          ],
          [
           14.1417,
           "Genetic"
          ],
          [
           14.1808,
           "Genetic"
          ],
          [
           14.5565,
           "Genetic"
          ],
          [
           14.6179,
           "Genetic"
          ],
          [
           13.9315,
           "Genetic"
          ]
         ],
         "hovertemplate": "Algo=%{customdata[1]}<br>Run time(s)=%{y}<br>Distance=%{customdata[0]}<extra></extra>",
         "legendgroup": "Genetic",
         "marker": {
          "color": "#EF553B",
          "symbol": "diamond"
         },
         "mode": "markers",
         "name": "Genetic",
         "orientation": "v",
         "showlegend": true,
         "type": "scatter",
         "x": [
          7.0509739119832355,
          5.405098220407876,
          5.35247057450726,
          5.245827978764602,
          5.806240816304124,
          4.7095778655381615,
          4.348284187602859,
          6.410128271296576,
          5.039852037622331,
          3.323465456149539,
          11.883046720348043,
          9.783687144793461,
          10.188341385933976,
          10.07860843087501,
          10.675609338486586,
          10.336789150673303,
          8.562795385696955,
          10.016937168820569,
          9.144223620792635,
          10.163370392308051,
          14.678936711403704,
          16.303392535095853,
          15.30325814450449,
          14.341135095055314,
          15.922525990134531,
          15.041150631310773,
          14.41242641331934,
          15.375288187598281,
          15.26180529441026,
          16.17710332645035,
          20.292765018091163,
          19.42170284671597,
          19.827325068478256,
          19.97231332575712,
          20.01410237421493,
          19.791837872304225,
          19.852387818895195,
          19.83741824120412,
          20.694114336655353,
          20.575869425874718,
          24.355200317433038,
          25.688748255338048,
          25.078839953973638,
          24.546749878559783,
          25.25965217057167,
          24.402193836092593,
          24.4322391958075,
          25.33259052648902,
          25.421040740252227,
          26.15026683089498,
          30.542518258589812,
          30.09740810644633,
          30.130060970837288,
          29.672832634391135,
          31.559720652724987,
          30.52603014461285,
          29.960459354393567,
          30.858280700625492,
          29.64853551366785,
          29.833376044176646,
          35.67723102802555,
          35.37321914952012,
          35.29578677691084,
          33.80292810613991,
          34.5963238704124,
          34.57120370775806,
          35.6341756767511,
          36.11271635292938,
          35.145395686269744,
          34.51202436807308,
          41.31243148899265,
          39.20458418529368,
          39.02316796720447,
          40.36101112836886,
          41.208574777522976,
          40.72006889631126,
          40.62233885333069,
          41.19184937682142,
          38.808766319520416,
          40.21430641116692
         ],
         "xaxis": "x",
         "y": [
          8.3289,
          8.4424,
          8.4849,
          8.9795,
          8.0101,
          7.888,
          7.9791,
          7.9591,
          8.0695,
          8.1098,
          12.194,
          27.0149,
          12.267,
          24.486,
          10.5448,
          21.4232,
          16.7102,
          26.344,
          25.8649,
          10.6967,
          19.8654,
          25.9834,
          30.4596,
          21.0376,
          15.083,
          17.5897,
          18.3452,
          26.5765,
          17.9378,
          19.8686,
          30.7196,
          17.8283,
          15.0215,
          17.3804,
          35.7847,
          17.0087,
          15.6197,
          28.594,
          21.0275,
          19.0908,
          19.8119,
          30.3216,
          21.8733,
          22.1171,
          65.9803,
          34.6072,
          24.2684,
          25.7095,
          29.0719,
          21.0819,
          23.2123,
          30.4959,
          45.2405,
          34.0009,
          35.0403,
          35.2067,
          56.1764,
          22.7406,
          23.2043,
          43.5075,
          49.5901,
          23.7436,
          72.38,
          45.3046,
          64.6475,
          40.4657,
          35.7601,
          57.7088,
          80.8762,
          29.2004,
          87.2243,
          37.5549,
          49.9527,
          61.162,
          91.8072,
          35.0497,
          43.0596,
          56.2488,
          32.2705,
          45.19
         ],
         "yaxis": "y"
        },
        {
         "customdata": [
          [
           1.7232,
           "Greedy"
          ],
          [
           1.7232,
           "Greedy"
          ],
          [
           1.7232,
           "Greedy"
          ],
          [
           1.7232,
           "Greedy"
          ],
          [
           1.7232,
           "Greedy"
          ],
          [
           1.7232,
           "Greedy"
          ],
          [
           1.7232,
           "Greedy"
          ],
          [
           1.7232,
           "Greedy"
          ],
          [
           1.7232,
           "Greedy"
          ],
          [
           1.7232,
           "Greedy"
          ],
          [
           3.7087,
           "Greedy"
          ],
          [
           3.7087,
           "Greedy"
          ],
          [
           3.7087,
           "Greedy"
          ],
          [
           3.7087,
           "Greedy"
          ],
          [
           3.7087,
           "Greedy"
          ],
          [
           3.7087,
           "Greedy"
          ],
          [
           3.7087,
           "Greedy"
          ],
          [
           3.7087,
           "Greedy"
          ],
          [
           3.7087,
           "Greedy"
          ],
          [
           3.7087,
           "Greedy"
          ],
          [
           3.9139,
           "Greedy"
          ],
          [
           3.9139,
           "Greedy"
          ],
          [
           3.9139,
           "Greedy"
          ],
          [
           3.9139,
           "Greedy"
          ],
          [
           3.9139,
           "Greedy"
          ],
          [
           3.9139,
           "Greedy"
          ],
          [
           3.9139,
           "Greedy"
          ],
          [
           3.9139,
           "Greedy"
          ],
          [
           3.9139,
           "Greedy"
          ],
          [
           3.9139,
           "Greedy"
          ],
          [
           4.107,
           "Greedy"
          ],
          [
           4.107,
           "Greedy"
          ],
          [
           4.107,
           "Greedy"
          ],
          [
           4.107,
           "Greedy"
          ],
          [
           4.107,
           "Greedy"
          ],
          [
           4.107,
           "Greedy"
          ],
          [
           4.107,
           "Greedy"
          ],
          [
           4.107,
           "Greedy"
          ],
          [
           4.107,
           "Greedy"
          ],
          [
           4.107,
           "Greedy"
          ],
          [
           4.5338,
           "Greedy"
          ],
          [
           4.5338,
           "Greedy"
          ],
          [
           4.5338,
           "Greedy"
          ],
          [
           4.5338,
           "Greedy"
          ],
          [
           4.5338,
           "Greedy"
          ],
          [
           4.5338,
           "Greedy"
          ],
          [
           4.5338,
           "Greedy"
          ],
          [
           4.5338,
           "Greedy"
          ],
          [
           4.5338,
           "Greedy"
          ],
          [
           4.5338,
           "Greedy"
          ],
          [
           4.4321,
           "Greedy"
          ],
          [
           4.4321,
           "Greedy"
          ],
          [
           4.4321,
           "Greedy"
          ],
          [
           4.4321,
           "Greedy"
          ],
          [
           4.4321,
           "Greedy"
          ],
          [
           4.4321,
           "Greedy"
          ],
          [
           4.4321,
           "Greedy"
          ],
          [
           4.4321,
           "Greedy"
          ],
          [
           4.4321,
           "Greedy"
          ],
          [
           4.4321,
           "Greedy"
          ],
          [
           5.5547,
           "Greedy"
          ],
          [
           5.5547,
           "Greedy"
          ],
          [
           5.5547,
           "Greedy"
          ],
          [
           5.5547,
           "Greedy"
          ],
          [
           5.5547,
           "Greedy"
          ],
          [
           5.5547,
           "Greedy"
          ],
          [
           5.5547,
           "Greedy"
          ],
          [
           5.5547,
           "Greedy"
          ],
          [
           5.5547,
           "Greedy"
          ],
          [
           5.5547,
           "Greedy"
          ],
          [
           5.9937,
           "Greedy"
          ],
          [
           5.9937,
           "Greedy"
          ],
          [
           5.9937,
           "Greedy"
          ],
          [
           5.9937,
           "Greedy"
          ],
          [
           5.9937,
           "Greedy"
          ],
          [
           5.9937,
           "Greedy"
          ],
          [
           5.9937,
           "Greedy"
          ],
          [
           5.9937,
           "Greedy"
          ],
          [
           5.9937,
           "Greedy"
          ],
          [
           5.9937,
           "Greedy"
          ]
         ],
         "hovertemplate": "Algo=%{customdata[1]}<br>Run time(s)=%{y}<br>Distance=%{customdata[0]}<extra></extra>",
         "legendgroup": "Greedy",
         "marker": {
          "color": "#00cc96",
          "symbol": "square"
         },
         "mode": "markers",
         "name": "Greedy",
         "orientation": "v",
         "showlegend": true,
         "type": "scatter",
         "x": [
          6.326219637245005,
          4.588872348293421,
          3.850840294459114,
          4.970681738670675,
          3.9219766584989033,
          5.060788826959603,
          3.3194599775751565,
          5.2974890562900905,
          3.8823473760287834,
          5.370324557637206,
          8.785356517796767,
          11.416629546495813,
          9.633754100846673,
          10.918038714416609,
          11.90230199606269,
          10.78378743284691,
          10.366161788228887,
          10.67462447676209,
          8.687483155330085,
          8.6075552461771,
          15.733866436709274,
          14.217893832520469,
          14.684167474452488,
          14.615432626965276,
          14.804357373725495,
          16.074258652323763,
          15.0342666174055,
          15.418372805844333,
          14.247906885138933,
          16.070848438123072,
          18.378086869307538,
          20.330289604825428,
          18.91962884731026,
          19.09381859407921,
          19.497971836426355,
          20.655948467377023,
          18.641129546206095,
          20.369150414521922,
          21.179042304694192,
          19.755739190737366,
          23.694212511903913,
          25.66635255630008,
          26.231206341166345,
          26.44128877588889,
          25.929520440769437,
          25.71518351817881,
          24.999986672380434,
          25.77753185077575,
          25.351931347834135,
          25.157417481994322,
          30.606159113736446,
          29.66255820782097,
          29.40768174595558,
          29.684839764118223,
          30.68670319623696,
          29.210246737921313,
          29.78140446138018,
          29.56494396486596,
          29.769024861340913,
          30.61392612473871,
          34.30490232473957,
          34.51313185106594,
          35.39911694041293,
          34.73230648269994,
          36.22687087912177,
          34.45347764657028,
          34.73211407537086,
          35.12219909738694,
          35.90647168753894,
          34.52645089900249,
          39.8211842541443,
          40.63757440707806,
          40.01845610040173,
          40.70118016944438,
          39.03088179995096,
          39.91764596053282,
          40.25733425359032,
          40.21357385645198,
          38.911194033975,
          39.91907796901961
         ],
         "xaxis": "x",
         "y": [
          0,
          0,
          0,
          0,
          0,
          0,
          0,
          0,
          0.0001,
          0,
          0.0001,
          0.0001,
          0.0001,
          0.0001,
          0.0001,
          0.0001,
          0.0001,
          0.0001,
          0.0001,
          0.0001,
          0.0002,
          0.0002,
          0.0002,
          0.0002,
          0.0002,
          0.0002,
          0.0002,
          0.0002,
          0.0002,
          0.0002,
          0.0003,
          0.0003,
          0.0003,
          0.0003,
          0.0003,
          0.0003,
          0.0003,
          0.0003,
          0.0003,
          0.0003,
          0.0004,
          0.0004,
          0.0004,
          0.0005,
          0.0004,
          0.0004,
          0.0004,
          0.0004,
          0.0004,
          0.0004,
          0.0006,
          0.0006,
          0.0006,
          0.0006,
          0.0007,
          0.0006,
          0.0007,
          0.0006,
          0.0006,
          0.0013,
          0.0008,
          0.0008,
          0.0008,
          0.0008,
          0.0009,
          0.0009,
          0.001,
          0.0009,
          0.001,
          0.0013,
          0.0012,
          0.0016,
          0.0013,
          0.0012,
          0.0011,
          0.0012,
          0.0012,
          0.0017,
          0.0013,
          0.0012
         ],
         "yaxis": "y"
        }
       ],
       "layout": {
        "height": 600,
        "legend": {
         "title": {
          "text": "Algo"
         },
         "tracegroupgap": 0
        },
        "template": {
         "data": {
          "bar": [
           {
            "error_x": {
             "color": "#2a3f5f"
            },
            "error_y": {
             "color": "#2a3f5f"
            },
            "marker": {
             "line": {
              "color": "#E5ECF6",
              "width": 0.5
             },
             "pattern": {
              "fillmode": "overlay",
              "size": 10,
              "solidity": 0.2
             }
            },
            "type": "bar"
           }
          ],
          "barpolar": [
           {
            "marker": {
             "line": {
              "color": "#E5ECF6",
              "width": 0.5
             },
             "pattern": {
              "fillmode": "overlay",
              "size": 10,
              "solidity": 0.2
             }
            },
            "type": "barpolar"
           }
          ],
          "carpet": [
           {
            "aaxis": {
             "endlinecolor": "#2a3f5f",
             "gridcolor": "white",
             "linecolor": "white",
             "minorgridcolor": "white",
             "startlinecolor": "#2a3f5f"
            },
            "baxis": {
             "endlinecolor": "#2a3f5f",
             "gridcolor": "white",
             "linecolor": "white",
             "minorgridcolor": "white",
             "startlinecolor": "#2a3f5f"
            },
            "type": "carpet"
           }
          ],
          "choropleth": [
           {
            "colorbar": {
             "outlinewidth": 0,
             "ticks": ""
            },
            "type": "choropleth"
           }
          ],
          "contour": [
           {
            "colorbar": {
             "outlinewidth": 0,
             "ticks": ""
            },
            "colorscale": [
             [
              0,
              "#0d0887"
             ],
             [
              0.1111111111111111,
              "#46039f"
             ],
             [
              0.2222222222222222,
              "#7201a8"
             ],
             [
              0.3333333333333333,
              "#9c179e"
             ],
             [
              0.4444444444444444,
              "#bd3786"
             ],
             [
              0.5555555555555556,
              "#d8576b"
             ],
             [
              0.6666666666666666,
              "#ed7953"
             ],
             [
              0.7777777777777778,
              "#fb9f3a"
             ],
             [
              0.8888888888888888,
              "#fdca26"
             ],
             [
              1,
              "#f0f921"
             ]
            ],
            "type": "contour"
           }
          ],
          "contourcarpet": [
           {
            "colorbar": {
             "outlinewidth": 0,
             "ticks": ""
            },
            "type": "contourcarpet"
           }
          ],
          "heatmap": [
           {
            "colorbar": {
             "outlinewidth": 0,
             "ticks": ""
            },
            "colorscale": [
             [
              0,
              "#0d0887"
             ],
             [
              0.1111111111111111,
              "#46039f"
             ],
             [
              0.2222222222222222,
              "#7201a8"
             ],
             [
              0.3333333333333333,
              "#9c179e"
             ],
             [
              0.4444444444444444,
              "#bd3786"
             ],
             [
              0.5555555555555556,
              "#d8576b"
             ],
             [
              0.6666666666666666,
              "#ed7953"
             ],
             [
              0.7777777777777778,
              "#fb9f3a"
             ],
             [
              0.8888888888888888,
              "#fdca26"
             ],
             [
              1,
              "#f0f921"
             ]
            ],
            "type": "heatmap"
           }
          ],
          "heatmapgl": [
           {
            "colorbar": {
             "outlinewidth": 0,
             "ticks": ""
            },
            "colorscale": [
             [
              0,
              "#0d0887"
             ],
             [
              0.1111111111111111,
              "#46039f"
             ],
             [
              0.2222222222222222,
              "#7201a8"
             ],
             [
              0.3333333333333333,
              "#9c179e"
             ],
             [
              0.4444444444444444,
              "#bd3786"
             ],
             [
              0.5555555555555556,
              "#d8576b"
             ],
             [
              0.6666666666666666,
              "#ed7953"
             ],
             [
              0.7777777777777778,
              "#fb9f3a"
             ],
             [
              0.8888888888888888,
              "#fdca26"
             ],
             [
              1,
              "#f0f921"
             ]
            ],
            "type": "heatmapgl"
           }
          ],
          "histogram": [
           {
            "marker": {
             "pattern": {
              "fillmode": "overlay",
              "size": 10,
              "solidity": 0.2
             }
            },
            "type": "histogram"
           }
          ],
          "histogram2d": [
           {
            "colorbar": {
             "outlinewidth": 0,
             "ticks": ""
            },
            "colorscale": [
             [
              0,
              "#0d0887"
             ],
             [
              0.1111111111111111,
              "#46039f"
             ],
             [
              0.2222222222222222,
              "#7201a8"
             ],
             [
              0.3333333333333333,
              "#9c179e"
             ],
             [
              0.4444444444444444,
              "#bd3786"
             ],
             [
              0.5555555555555556,
              "#d8576b"
             ],
             [
              0.6666666666666666,
              "#ed7953"
             ],
             [
              0.7777777777777778,
              "#fb9f3a"
             ],
             [
              0.8888888888888888,
              "#fdca26"
             ],
             [
              1,
              "#f0f921"
             ]
            ],
            "type": "histogram2d"
           }
          ],
          "histogram2dcontour": [
           {
            "colorbar": {
             "outlinewidth": 0,
             "ticks": ""
            },
            "colorscale": [
             [
              0,
              "#0d0887"
             ],
             [
              0.1111111111111111,
              "#46039f"
             ],
             [
              0.2222222222222222,
              "#7201a8"
             ],
             [
              0.3333333333333333,
              "#9c179e"
             ],
             [
              0.4444444444444444,
              "#bd3786"
             ],
             [
              0.5555555555555556,
              "#d8576b"
             ],
             [
              0.6666666666666666,
              "#ed7953"
             ],
             [
              0.7777777777777778,
              "#fb9f3a"
             ],
             [
              0.8888888888888888,
              "#fdca26"
             ],
             [
              1,
              "#f0f921"
             ]
            ],
            "type": "histogram2dcontour"
           }
          ],
          "mesh3d": [
           {
            "colorbar": {
             "outlinewidth": 0,
             "ticks": ""
            },
            "type": "mesh3d"
           }
          ],
          "parcoords": [
           {
            "line": {
             "colorbar": {
              "outlinewidth": 0,
              "ticks": ""
             }
            },
            "type": "parcoords"
           }
          ],
          "pie": [
           {
            "automargin": true,
            "type": "pie"
           }
          ],
          "scatter": [
           {
            "marker": {
             "colorbar": {
              "outlinewidth": 0,
              "ticks": ""
             }
            },
            "type": "scatter"
           }
          ],
          "scatter3d": [
           {
            "line": {
             "colorbar": {
              "outlinewidth": 0,
              "ticks": ""
             }
            },
            "marker": {
             "colorbar": {
              "outlinewidth": 0,
              "ticks": ""
             }
            },
            "type": "scatter3d"
           }
          ],
          "scattercarpet": [
           {
            "marker": {
             "colorbar": {
              "outlinewidth": 0,
              "ticks": ""
             }
            },
            "type": "scattercarpet"
           }
          ],
          "scattergeo": [
           {
            "marker": {
             "colorbar": {
              "outlinewidth": 0,
              "ticks": ""
             }
            },
            "type": "scattergeo"
           }
          ],
          "scattergl": [
           {
            "marker": {
             "colorbar": {
              "outlinewidth": 0,
              "ticks": ""
             }
            },
            "type": "scattergl"
           }
          ],
          "scattermapbox": [
           {
            "marker": {
             "colorbar": {
              "outlinewidth": 0,
              "ticks": ""
             }
            },
            "type": "scattermapbox"
           }
          ],
          "scatterpolar": [
           {
            "marker": {
             "colorbar": {
              "outlinewidth": 0,
              "ticks": ""
             }
            },
            "type": "scatterpolar"
           }
          ],
          "scatterpolargl": [
           {
            "marker": {
             "colorbar": {
              "outlinewidth": 0,
              "ticks": ""
             }
            },
            "type": "scatterpolargl"
           }
          ],
          "scatterternary": [
           {
            "marker": {
             "colorbar": {
              "outlinewidth": 0,
              "ticks": ""
             }
            },
            "type": "scatterternary"
           }
          ],
          "surface": [
           {
            "colorbar": {
             "outlinewidth": 0,
             "ticks": ""
            },
            "colorscale": [
             [
              0,
              "#0d0887"
             ],
             [
              0.1111111111111111,
              "#46039f"
             ],
             [
              0.2222222222222222,
              "#7201a8"
             ],
             [
              0.3333333333333333,
              "#9c179e"
             ],
             [
              0.4444444444444444,
              "#bd3786"
             ],
             [
              0.5555555555555556,
              "#d8576b"
             ],
             [
              0.6666666666666666,
              "#ed7953"
             ],
             [
              0.7777777777777778,
              "#fb9f3a"
             ],
             [
              0.8888888888888888,
              "#fdca26"
             ],
             [
              1,
              "#f0f921"
             ]
            ],
            "type": "surface"
           }
          ],
          "table": [
           {
            "cells": {
             "fill": {
              "color": "#EBF0F8"
             },
             "line": {
              "color": "white"
             }
            },
            "header": {
             "fill": {
              "color": "#C8D4E3"
             },
             "line": {
              "color": "white"
             }
            },
            "type": "table"
           }
          ]
         },
         "layout": {
          "annotationdefaults": {
           "arrowcolor": "#2a3f5f",
           "arrowhead": 0,
           "arrowwidth": 1
          },
          "autotypenumbers": "strict",
          "coloraxis": {
           "colorbar": {
            "outlinewidth": 0,
            "ticks": ""
           }
          },
          "colorscale": {
           "diverging": [
            [
             0,
             "#8e0152"
            ],
            [
             0.1,
             "#c51b7d"
            ],
            [
             0.2,
             "#de77ae"
            ],
            [
             0.3,
             "#f1b6da"
            ],
            [
             0.4,
             "#fde0ef"
            ],
            [
             0.5,
             "#f7f7f7"
            ],
            [
             0.6,
             "#e6f5d0"
            ],
            [
             0.7,
             "#b8e186"
            ],
            [
             0.8,
             "#7fbc41"
            ],
            [
             0.9,
             "#4d9221"
            ],
            [
             1,
             "#276419"
            ]
           ],
           "sequential": [
            [
             0,
             "#0d0887"
            ],
            [
             0.1111111111111111,
             "#46039f"
            ],
            [
             0.2222222222222222,
             "#7201a8"
            ],
            [
             0.3333333333333333,
             "#9c179e"
            ],
            [
             0.4444444444444444,
             "#bd3786"
            ],
            [
             0.5555555555555556,
             "#d8576b"
            ],
            [
             0.6666666666666666,
             "#ed7953"
            ],
            [
             0.7777777777777778,
             "#fb9f3a"
            ],
            [
             0.8888888888888888,
             "#fdca26"
            ],
            [
             1,
             "#f0f921"
            ]
           ],
           "sequentialminus": [
            [
             0,
             "#0d0887"
            ],
            [
             0.1111111111111111,
             "#46039f"
            ],
            [
             0.2222222222222222,
             "#7201a8"
            ],
            [
             0.3333333333333333,
             "#9c179e"
            ],
            [
             0.4444444444444444,
             "#bd3786"
            ],
            [
             0.5555555555555556,
             "#d8576b"
            ],
            [
             0.6666666666666666,
             "#ed7953"
            ],
            [
             0.7777777777777778,
             "#fb9f3a"
            ],
            [
             0.8888888888888888,
             "#fdca26"
            ],
            [
             1,
             "#f0f921"
            ]
           ]
          },
          "colorway": [
           "#636efa",
           "#EF553B",
           "#00cc96",
           "#ab63fa",
           "#FFA15A",
           "#19d3f3",
           "#FF6692",
           "#B6E880",
           "#FF97FF",
           "#FECB52"
          ],
          "font": {
           "color": "#2a3f5f"
          },
          "geo": {
           "bgcolor": "white",
           "lakecolor": "white",
           "landcolor": "#E5ECF6",
           "showlakes": true,
           "showland": true,
           "subunitcolor": "white"
          },
          "hoverlabel": {
           "align": "left"
          },
          "hovermode": "closest",
          "mapbox": {
           "style": "light"
          },
          "paper_bgcolor": "white",
          "plot_bgcolor": "#E5ECF6",
          "polar": {
           "angularaxis": {
            "gridcolor": "white",
            "linecolor": "white",
            "ticks": ""
           },
           "bgcolor": "#E5ECF6",
           "radialaxis": {
            "gridcolor": "white",
            "linecolor": "white",
            "ticks": ""
           }
          },
          "scene": {
           "xaxis": {
            "backgroundcolor": "#E5ECF6",
            "gridcolor": "white",
            "gridwidth": 2,
            "linecolor": "white",
            "showbackground": true,
            "ticks": "",
            "zerolinecolor": "white"
           },
           "yaxis": {
            "backgroundcolor": "#E5ECF6",
            "gridcolor": "white",
            "gridwidth": 2,
            "linecolor": "white",
            "showbackground": true,
            "ticks": "",
            "zerolinecolor": "white"
           },
           "zaxis": {
            "backgroundcolor": "#E5ECF6",
            "gridcolor": "white",
            "gridwidth": 2,
            "linecolor": "white",
            "showbackground": true,
            "ticks": "",
            "zerolinecolor": "white"
           }
          },
          "shapedefaults": {
           "line": {
            "color": "#2a3f5f"
           }
          },
          "ternary": {
           "aaxis": {
            "gridcolor": "white",
            "linecolor": "white",
            "ticks": ""
           },
           "baxis": {
            "gridcolor": "white",
            "linecolor": "white",
            "ticks": ""
           },
           "bgcolor": "#E5ECF6",
           "caxis": {
            "gridcolor": "white",
            "linecolor": "white",
            "ticks": ""
           }
          },
          "title": {
           "x": 0.05
          },
          "xaxis": {
           "automargin": true,
           "gridcolor": "white",
           "linecolor": "white",
           "ticks": "",
           "title": {
            "standoff": 15
           },
           "zerolinecolor": "white",
           "zerolinewidth": 2
          },
          "yaxis": {
           "automargin": true,
           "gridcolor": "white",
           "linecolor": "white",
           "ticks": "",
           "title": {
            "standoff": 15
           },
           "zerolinecolor": "white",
           "zerolinewidth": 2
          }
         }
        },
        "title": {
         "text": "Ant colony vs Genetic vs Greedy RUN TIME (s)"
        },
        "xaxis": {
         "anchor": "y",
         "domain": [
          0,
          1
         ],
         "title": {
          "text": "N points"
         }
        },
        "yaxis": {
         "anchor": "x",
         "domain": [
          0,
          1
         ],
         "title": {
          "text": "Run time(s)"
         }
        }
       }
      }
     },
     "metadata": {},
     "output_type": "display_data"
    }
   ],
   "source": [
    "fig = px.scatter(df_res_scatter_noise, x=\"N points\", y=\"Run time(s)\", color=\"Algo\", symbol=\"Algo\",title=\"Ant colony vs Genetic vs Greedy RUN TIME (s)\",\n",
    "                hover_data={'Distance':True,\"Algo\":True,\"Run time(s)\":True,\"N points\":False},height=600)\n",
    "#fig.update_traces(textposition=\"bottom right\")\n",
    "fig.write_html('Antcolony_vs_Genetic_vs_Greedy_RUNTIME(s).html')\n",
    "fig.show()"
   ]
  }
 ],
 "metadata": {
  "interpreter": {
   "hash": "916dbcbb3f70747c44a77c7bcd40155683ae19c65e1c03b4aa3499c5328201f1"
  },
  "kernelspec": {
   "display_name": "Python 3.8.10 64-bit",
   "language": "python",
   "name": "python3"
  },
  "language_info": {
   "codemirror_mode": {
    "name": "ipython",
    "version": 3
   },
   "file_extension": ".py",
   "mimetype": "text/x-python",
   "name": "python",
   "nbconvert_exporter": "python",
   "pygments_lexer": "ipython3",
   "version": "3.8.10"
  },
  "orig_nbformat": 4
 },
 "nbformat": 4,
 "nbformat_minor": 2
}
